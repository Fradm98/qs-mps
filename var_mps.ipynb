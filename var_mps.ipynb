{
 "cells": [
  {
   "cell_type": "code",
   "execution_count": 6,
   "metadata": {},
   "outputs": [],
   "source": [
    "from mps_class_v9 import MPS\n",
    "import numpy as np\n",
    "from utils import tensor_shapes, H_ising_gen\n",
    "from ncon import ncon"
   ]
  },
  {
   "cell_type": "code",
   "execution_count": 18,
   "metadata": {},
   "outputs": [],
   "source": [
    "def error_psi_O_dag_O_psi(classe, site):\n",
    "    classe.mpo_dagger()\n",
    "    classe.mpo_Ising_O_dag_O()\n",
    "\n",
    "    D = classe.w[0].shape[0]\n",
    "    v_l = np.zeros(D)\n",
    "    v_l[0] = 1\n",
    "    v_r = np.zeros(D)\n",
    "    v_r[-1] = 1\n",
    "    aux = classe.sites[0].shape[0]\n",
    "    l = np.zeros(aux)\n",
    "    l[0] = 1\n",
    "    r = np.zeros(aux)\n",
    "    r[-1] = 1\n",
    "    E_r = ncon([r.T,v_r.T,r.T], [[-1],[-2],[-3]])\n",
    "    E_l = ncon([l,v_l,l], [[-1],[-2],[-3]])\n",
    "    env_right = []\n",
    "    env_left = []\n",
    "    env_right.append(E_r)\n",
    "    env_left.append(E_l)\n",
    "    array = classe.sites\n",
    "    for i in range(1, site):\n",
    "        E_l = ncon(\n",
    "            [E_l, array[i - 1], classe.w[i - 1], array[i - 1].conjugate()],\n",
    "            [\n",
    "                [1,3,5],\n",
    "                [1,2,-1],\n",
    "                [3,-2,2,4],\n",
    "                [5,4,-3],\n",
    "            ],\n",
    "            )\n",
    "        env_left.append(E_l)\n",
    "\n",
    "    for i in range(classe.L, site, -1):\n",
    "        E_r = ncon(\n",
    "            [E_r, array[i - 1], classe.w[i - 1], array[i - 1].conjugate()],\n",
    "            [\n",
    "                [1,3,5],\n",
    "                [-1,2,1],\n",
    "                [-2,3,2,4],\n",
    "                [-3,4,5],\n",
    "            ],\n",
    "            )\n",
    "        env_right.append(E_r)\n",
    "\n",
    "    ket = classe.sites\n",
    "    bra = ket\n",
    "    w = classe.w\n",
    "    sandwich = ncon(\n",
    "            [env_left[-1], ket[site - 1], w[site - 1], bra[site - 1].conjugate(), env_right[-1]],\n",
    "            [\n",
    "                [1,4,7],\n",
    "                [1,3,2],\n",
    "                [4,5,3,6],\n",
    "                [7,6,8],\n",
    "                [2,5,8]\n",
    "            ]\n",
    "        )\n",
    "    return sandwich\n",
    "    "
   ]
  },
  {
   "cell_type": "code",
   "execution_count": 19,
   "metadata": {},
   "outputs": [],
   "source": [
    "def time_ev_sweeping(classe, trunc, delta, h_ev, J_ev, e_tol=10 ** (-15), n_sweeps=2, precision=2):\n",
    "    sweeps = [\"right\", \"left\"]\n",
    "    sites = np.arange(1, classe.L + 1).tolist()\n",
    "    errors = []\n",
    "    # computation of constant error\n",
    "    err_const = classe._compute_norm(site=1, ancilla=True)\n",
    "\n",
    "    # computation of mixed environments\n",
    "    classe.mpo_Ising()\n",
    "    classe.envs(site= 1, mixed=True)\n",
    "    classe.envs(site= 1, mixed=True, rev=True)\n",
    "    iter = 1\n",
    "    for n in range(n_sweeps):\n",
    "        print(f\"Sweep n: {n}\\n\")\n",
    "        for i in range(classe.L - 1):\n",
    "            classe.contraction_with_ancilla(sites[i])\n",
    "            classe.update_state(sweeps[0], sites[i], trunc, e_tol, precision)\n",
    "            err_psi = error_psi_O_dag_O_psi(classe, sites[i])\n",
    "            err = classe.error(site=sites[i], err_const=err_const, err_psi=err_psi)\n",
    "            print(f\"error per site {sites[i]}: {err:.5f}\")\n",
    "            errors.append(err)\n",
    "            classe.update_envs(sweeps[0], sites[i], mixed=True)\n",
    "            classe.update_envs(sweeps[0], sites[i], rev=True)\n",
    "            classe.mpo_Ising()\n",
    "            iter += 1\n",
    "            classe._compute_norm(site=sites[i])\n",
    "\n",
    "        sweeps.reverse()\n",
    "        sites.reverse()\n",
    "        classe.ancilla_sites = classe.sites\n",
    "\n",
    "    return classe, errors[-1]"
   ]
  },
  {
   "cell_type": "code",
   "execution_count": 20,
   "metadata": {},
   "outputs": [],
   "source": [
    "def TEBD_ising(classe, trunc, trotter_steps, delta, h_ev, J_ev, e_tol=10 ** (-15), n_sweeps=4, precision=2):\n",
    "    errors = []\n",
    "    classe.clear_envs()\n",
    "    classe._random_state(seed=3, chi=classe.chi, ancilla=True)\n",
    "    classe.canonical_form(ancilla=True)\n",
    "    for i in range(trotter_steps):\n",
    "        print(\"\\n======================\")\n",
    "        print(f\"Trotter step: {i}\")\n",
    "        print(\"======================\\n\")\n",
    "        classe, err = time_ev_sweeping(classe, trunc, delta, h_ev, J_ev, e_tol=10 ** (-15), n_sweeps=50, precision=2)\n",
    "        errors.append(err)\n",
    "        print(f\"Error at trotter step {i}: {err:.5f}\")\n",
    "    return classe, errors"
   ]
  },
  {
   "cell_type": "code",
   "execution_count": 21,
   "metadata": {},
   "outputs": [
    {
     "name": "stdout",
     "output_type": "stream",
     "text": [
      "\n",
      "======================\n",
      "Trotter step: 0\n",
      "======================\n",
      "\n",
      "-=-=-= Norm: 0.9999999999999993\n",
      "\n",
      "Sweep n: 0\n",
      "\n",
      "Time of svd during update state during sweeping right for site 1: 0.0005248809993645409\n",
      "error constant: 0.9999999999999993\n"
     ]
    },
    {
     "ename": "ValueError",
     "evalue": "In ncon.do_check_indices, for the contraction index 4, the leg 1 of tensor number 0 and the leg 0 of tensor number 2 are not compatible.",
     "output_type": "error",
     "traceback": [
      "\u001b[0;31m---------------------------------------------------------------------------\u001b[0m",
      "\u001b[0;31mValueError\u001b[0m                                Traceback (most recent call last)",
      "Cell \u001b[0;32mIn[21], line 7\u001b[0m\n\u001b[1;32m      5\u001b[0m chain\u001b[39m.\u001b[39m_random_state(seed\u001b[39m=\u001b[39m\u001b[39m7\u001b[39m, chi\u001b[39m=\u001b[39m\u001b[39m4\u001b[39m)\n\u001b[1;32m      6\u001b[0m chain\u001b[39m.\u001b[39mcanonical_form()\n\u001b[0;32m----> 7\u001b[0m chain, errors \u001b[39m=\u001b[39m TEBD_ising(chain, trunc\u001b[39m=\u001b[39;49m\u001b[39mTrue\u001b[39;49;00m, trotter_steps\u001b[39m=\u001b[39;49mtrott, delta\u001b[39m=\u001b[39;49m\u001b[39m1\u001b[39;49m, h_ev\u001b[39m=\u001b[39;49m\u001b[39m1\u001b[39;49m, J_ev\u001b[39m=\u001b[39;49m\u001b[39m1\u001b[39;49m)\n\u001b[1;32m      8\u001b[0m chain\u001b[39m.\u001b[39mclear_envs()\n\u001b[1;32m      9\u001b[0m chain\u001b[39m.\u001b[39menvs()\n",
      "Cell \u001b[0;32mIn[20], line 10\u001b[0m, in \u001b[0;36mTEBD_ising\u001b[0;34m(classe, trunc, trotter_steps, delta, h_ev, J_ev, e_tol, n_sweeps, precision)\u001b[0m\n\u001b[1;32m      8\u001b[0m \u001b[39mprint\u001b[39m(\u001b[39mf\u001b[39m\u001b[39m\"\u001b[39m\u001b[39mTrotter step: \u001b[39m\u001b[39m{\u001b[39;00mi\u001b[39m}\u001b[39;00m\u001b[39m\"\u001b[39m)\n\u001b[1;32m      9\u001b[0m \u001b[39mprint\u001b[39m(\u001b[39m\"\u001b[39m\u001b[39m======================\u001b[39m\u001b[39m\\n\u001b[39;00m\u001b[39m\"\u001b[39m)\n\u001b[0;32m---> 10\u001b[0m classe, err \u001b[39m=\u001b[39m time_ev_sweeping(classe, trunc, delta, h_ev, J_ev, e_tol\u001b[39m=\u001b[39;49m\u001b[39m10\u001b[39;49m \u001b[39m*\u001b[39;49m\u001b[39m*\u001b[39;49m (\u001b[39m-\u001b[39;49m\u001b[39m15\u001b[39;49m), n_sweeps\u001b[39m=\u001b[39;49m\u001b[39m50\u001b[39;49m, precision\u001b[39m=\u001b[39;49m\u001b[39m2\u001b[39;49m)\n\u001b[1;32m     11\u001b[0m errors\u001b[39m.\u001b[39mappend(err)\n\u001b[1;32m     12\u001b[0m \u001b[39mprint\u001b[39m(\u001b[39mf\u001b[39m\u001b[39m\"\u001b[39m\u001b[39mError at trotter step \u001b[39m\u001b[39m{\u001b[39;00mi\u001b[39m}\u001b[39;00m\u001b[39m: \u001b[39m\u001b[39m{\u001b[39;00merr\u001b[39m:\u001b[39;00m\u001b[39m.5f\u001b[39m\u001b[39m}\u001b[39;00m\u001b[39m\"\u001b[39m)\n",
      "Cell \u001b[0;32mIn[19], line 19\u001b[0m, in \u001b[0;36mtime_ev_sweeping\u001b[0;34m(classe, trunc, delta, h_ev, J_ev, e_tol, n_sweeps, precision)\u001b[0m\n\u001b[1;32m     17\u001b[0m classe\u001b[39m.\u001b[39mupdate_state(sweeps[\u001b[39m0\u001b[39m], sites[i], trunc, e_tol, precision)\n\u001b[1;32m     18\u001b[0m err_psi \u001b[39m=\u001b[39m error_psi_O_dag_O_psi(classe, sites[i])\n\u001b[0;32m---> 19\u001b[0m err \u001b[39m=\u001b[39m classe\u001b[39m.\u001b[39;49merror(site\u001b[39m=\u001b[39;49msites[i], err_const\u001b[39m=\u001b[39;49merr_const, err_psi\u001b[39m=\u001b[39;49merr_psi)\n\u001b[1;32m     20\u001b[0m \u001b[39mprint\u001b[39m(\u001b[39mf\u001b[39m\u001b[39m\"\u001b[39m\u001b[39merror per site \u001b[39m\u001b[39m{\u001b[39;00msites[i]\u001b[39m}\u001b[39;00m\u001b[39m: \u001b[39m\u001b[39m{\u001b[39;00merr\u001b[39m:\u001b[39;00m\u001b[39m.5f\u001b[39m\u001b[39m}\u001b[39;00m\u001b[39m\"\u001b[39m)\n\u001b[1;32m     21\u001b[0m errors\u001b[39m.\u001b[39mappend(err)\n",
      "File \u001b[0;32m~/Desktop/code_for_var_mps/mps_class_v9.py:1195\u001b[0m, in \u001b[0;36mMPS.error\u001b[0;34m(self, site, err_const, err_psi)\u001b[0m\n\u001b[1;32m   1193\u001b[0m \u001b[39mdef\u001b[39;00m \u001b[39merror\u001b[39m(\u001b[39mself\u001b[39m, site, err_const, err_psi):\n\u001b[1;32m   1194\u001b[0m     \u001b[39mprint\u001b[39m(\u001b[39mf\u001b[39m\u001b[39m\"\u001b[39m\u001b[39merror constant: \u001b[39m\u001b[39m{\u001b[39;00merr_const\u001b[39m}\u001b[39;00m\u001b[39m\"\u001b[39m)\n\u001b[0;32m-> 1195\u001b[0m     err_mixed \u001b[39m=\u001b[39m \u001b[39mself\u001b[39;49m\u001b[39m.\u001b[39;49mbraket(site\u001b[39m=\u001b[39;49msite, mixed\u001b[39m=\u001b[39;49m\u001b[39mTrue\u001b[39;49;00m)\n\u001b[1;32m   1196\u001b[0m     \u001b[39mprint\u001b[39m(\u001b[39mf\u001b[39m\u001b[39m\"\u001b[39m\u001b[39merror mixed: \u001b[39m\u001b[39m{\u001b[39;00merr_mixed\u001b[39m}\u001b[39;00m\u001b[39m\"\u001b[39m)\n\u001b[1;32m   1197\u001b[0m     err_rev \u001b[39m=\u001b[39m \u001b[39mself\u001b[39m\u001b[39m.\u001b[39mbraket(site\u001b[39m=\u001b[39msite, rev\u001b[39m=\u001b[39m\u001b[39mTrue\u001b[39;00m)\n",
      "File \u001b[0;32m~/Desktop/code_for_var_mps/mps_class_v9.py:247\u001b[0m, in \u001b[0;36mMPS.braket\u001b[0;34m(self, site, ancilla, mixed, rev)\u001b[0m\n\u001b[1;32m    240\u001b[0m     env_right \u001b[39m=\u001b[39m \u001b[39mself\u001b[39m\u001b[39m.\u001b[39menv_right_sm\n\u001b[1;32m    242\u001b[0m \u001b[39m# print(f\"env_left:{env_left[-1].shape}\")\u001b[39;00m\n\u001b[1;32m    243\u001b[0m \u001b[39m# print(f\"ket:{ket[site - 1].shape}\")\u001b[39;00m\n\u001b[1;32m    244\u001b[0m \u001b[39m# print(f\"w:{w[site - 1].shape}\")\u001b[39;00m\n\u001b[1;32m    245\u001b[0m \u001b[39m# print(f\"bra:{bra[site - 1].shape}\")\u001b[39;00m\n\u001b[1;32m    246\u001b[0m \u001b[39m# print(f\"env_right:{env_right[-1].shape}\")\u001b[39;00m\n\u001b[0;32m--> 247\u001b[0m sandwich \u001b[39m=\u001b[39m ncon(\n\u001b[1;32m    248\u001b[0m     [env_left[\u001b[39m-\u001b[39;49m\u001b[39m1\u001b[39;49m], ket[site \u001b[39m-\u001b[39;49m \u001b[39m1\u001b[39;49m], w[site \u001b[39m-\u001b[39;49m \u001b[39m1\u001b[39;49m], bra[site \u001b[39m-\u001b[39;49m \u001b[39m1\u001b[39;49m]\u001b[39m.\u001b[39;49mconjugate(), env_right[\u001b[39m-\u001b[39;49m\u001b[39m1\u001b[39;49m]],\n\u001b[1;32m    249\u001b[0m     [\n\u001b[1;32m    250\u001b[0m         [\u001b[39m1\u001b[39;49m,\u001b[39m4\u001b[39;49m,\u001b[39m7\u001b[39;49m],\n\u001b[1;32m    251\u001b[0m         [\u001b[39m1\u001b[39;49m,\u001b[39m3\u001b[39;49m,\u001b[39m2\u001b[39;49m],\n\u001b[1;32m    252\u001b[0m         [\u001b[39m4\u001b[39;49m,\u001b[39m5\u001b[39;49m,\u001b[39m3\u001b[39;49m,\u001b[39m6\u001b[39;49m],\n\u001b[1;32m    253\u001b[0m         [\u001b[39m7\u001b[39;49m,\u001b[39m6\u001b[39;49m,\u001b[39m8\u001b[39;49m],\n\u001b[1;32m    254\u001b[0m         [\u001b[39m2\u001b[39;49m,\u001b[39m5\u001b[39;49m,\u001b[39m8\u001b[39;49m]\n\u001b[1;32m    255\u001b[0m     ]\n\u001b[1;32m    256\u001b[0m )\n\u001b[1;32m    257\u001b[0m \u001b[39mreturn\u001b[39;00m sandwich\n",
      "File \u001b[0;32m~/opt/anaconda3/envs/tensor_env/lib/python3.10/site-packages/ncon/ncon.py:52\u001b[0m, in \u001b[0;36mncon\u001b[0;34m(L, v, order, forder, check_indices)\u001b[0m\n\u001b[1;32m     48\u001b[0m forder \u001b[39m=\u001b[39m preprocess_forder_order(forder, v, \u001b[39m\"\u001b[39m\u001b[39mforder\u001b[39m\u001b[39m\"\u001b[39m)\n\u001b[1;32m     50\u001b[0m \u001b[39mif\u001b[39;00m check_indices:\n\u001b[1;32m     51\u001b[0m     \u001b[39m# Raise a RuntimeError if the indices are wrong.\u001b[39;00m\n\u001b[0;32m---> 52\u001b[0m     do_check_indices(L, v, order, forder)\n\u001b[1;32m     54\u001b[0m \u001b[39m# If the graph is disconnected, connect it with trivial indices that will\u001b[39;00m\n\u001b[1;32m     55\u001b[0m \u001b[39m# be contracted at the very end.\u001b[39;00m\n\u001b[1;32m     56\u001b[0m connect_graph(L, v, order)\n",
      "File \u001b[0;32m~/opt/anaconda3/envs/tensor_env/lib/python3.10/site-packages/ncon/ncon.py:391\u001b[0m, in \u001b[0;36mdo_check_indices\u001b[0;34m(L, v, order, forder)\u001b[0m\n\u001b[1;32m    389\u001b[0m             compatible \u001b[39m=\u001b[39m L[A0]\u001b[39m.\u001b[39mshape[ind0] \u001b[39m==\u001b[39m L[A1]\u001b[39m.\u001b[39mshape[ind1]\n\u001b[1;32m    390\u001b[0m         \u001b[39mif\u001b[39;00m \u001b[39mnot\u001b[39;00m compatible:\n\u001b[0;32m--> 391\u001b[0m             \u001b[39mraise\u001b[39;00m \u001b[39mValueError\u001b[39;00m(\n\u001b[1;32m    392\u001b[0m                 \u001b[39m\"\u001b[39m\u001b[39mIn ncon.do_check_indices, for the contraction index \u001b[39m\u001b[39m%i\u001b[39;00m\u001b[39m, \u001b[39m\u001b[39m\"\u001b[39m\n\u001b[1;32m    393\u001b[0m                 \u001b[39m\"\u001b[39m\u001b[39mthe leg \u001b[39m\u001b[39m%i\u001b[39;00m\u001b[39m of tensor number \u001b[39m\u001b[39m%i\u001b[39;00m\u001b[39m and the leg \u001b[39m\u001b[39m%i\u001b[39;00m\u001b[39m of tensor \u001b[39m\u001b[39m\"\u001b[39m\n\u001b[1;32m    394\u001b[0m                 \u001b[39m\"\u001b[39m\u001b[39mnumber \u001b[39m\u001b[39m%i\u001b[39;00m\u001b[39m are not compatible.\u001b[39m\u001b[39m\"\u001b[39m\n\u001b[1;32m    395\u001b[0m                 \u001b[39m%\u001b[39m (order[i], ind0, A0, ind1, A1)\n\u001b[1;32m    396\u001b[0m             )\n\u001b[1;32m    397\u001b[0m \u001b[39mfor\u001b[39;00m i, fo \u001b[39min\u001b[39;00m \u001b[39menumerate\u001b[39m(forder_groups):\n\u001b[1;32m    398\u001b[0m     \u001b[39mif\u001b[39;00m \u001b[39mlen\u001b[39m(fo) \u001b[39m!=\u001b[39m \u001b[39m1\u001b[39m:\n",
      "\u001b[0;31mValueError\u001b[0m: In ncon.do_check_indices, for the contraction index 4, the leg 1 of tensor number 0 and the leg 0 of tensor number 2 are not compatible."
     ]
    }
   ],
   "source": [
    "trotter_steps = [1,10]\n",
    "energies = []\n",
    "for trott in trotter_steps:\n",
    "    chain = MPS(L=4, d=2, model=\"Ising\", chi=4, h=1, J=1, eps=0)\n",
    "    chain._random_state(seed=7, chi=4)\n",
    "    chain.canonical_form()\n",
    "    chain, errors = TEBD_ising(chain, trunc=True, trotter_steps=trott, delta=1, h_ev=1, J_ev=1)\n",
    "    chain.clear_envs()\n",
    "    chain.envs()\n",
    "    chain.mpo_Ising()\n",
    "    tensor_shapes(chain.w)\n",
    "    energies.append(chain.braket(site=1))"
   ]
  },
  {
   "cell_type": "code",
   "execution_count": 22,
   "metadata": {},
   "outputs": [],
   "source": [
    "import matplotlib.pyplot as plt"
   ]
  },
  {
   "cell_type": "code",
   "execution_count": 12,
   "metadata": {},
   "outputs": [
    {
     "ename": "NameError",
     "evalue": "name 'errors' is not defined",
     "output_type": "error",
     "traceback": [
      "\u001b[0;31m---------------------------------------------------------------------------\u001b[0m",
      "\u001b[0;31mNameError\u001b[0m                                 Traceback (most recent call last)",
      "Cell \u001b[0;32mIn[12], line 1\u001b[0m\n\u001b[0;32m----> 1\u001b[0m plt\u001b[39m.\u001b[39mplot(errors)\n",
      "\u001b[0;31mNameError\u001b[0m: name 'errors' is not defined"
     ]
    }
   ],
   "source": [
    "plt.plot(errors)"
   ]
  },
  {
   "cell_type": "code",
   "execution_count": 22,
   "metadata": {},
   "outputs": [
    {
     "name": "stdout",
     "output_type": "stream",
     "text": [
      "-4.758770483143632 33.163437477526344\n"
     ]
    },
    {
     "data": {
      "text/plain": [
       "[]"
      ]
     },
     "execution_count": 22,
     "metadata": {},
     "output_type": "execute_result"
    },
    {
     "data": {
      "image/png": "[encoded data removed]",
      "text/plain": [
       "<Figure size 640x480 with 1 Axes>"
      ]
     },
     "metadata": {},
     "output_type": "display_data"
    }
   ],
   "source": [
    "Z = np.array([[1,0],[0,-1]])\n",
    "X = np.array([[0,1],[1,0]])\n",
    "H = H_ising_gen(L=4, op_l=Z, op_t=X, J=-1, h_l=0, h_t=1)\n",
    "e,v = np.linalg.eig(H)\n",
    "print(e[0], e[0]**2+1-2*e[0])\n",
    "plt.plot(np.abs(energies))\n",
    "plt.hlines(y=np.abs(e[0]), xmin=0, xmax=6, linestyle='--')\n",
    "plt.semilogy()"
   ]
  },
  {
   "cell_type": "code",
   "execution_count": 23,
   "metadata": {},
   "outputs": [
    {
     "data": {
      "text/plain": [
       "4.966212238093735e-07"
      ]
     },
     "execution_count": 23,
     "metadata": {},
     "output_type": "execute_result"
    }
   ],
   "source": [
    "np.abs((energies[-1] - e[0])/energies[-1])"
   ]
  },
  {
   "cell_type": "code",
   "execution_count": 24,
   "metadata": {},
   "outputs": [
    {
     "data": {
      "text/plain": [
       "[array(-4.75876719), array(-4.75876812)]"
      ]
     },
     "execution_count": 24,
     "metadata": {},
     "output_type": "execute_result"
    }
   ],
   "source": [
    "energies"
   ]
  },
  {
   "cell_type": "code",
   "execution_count": 17,
   "metadata": {},
   "outputs": [
    {
     "name": "stdout",
     "output_type": "stream",
     "text": [
      "Time of env contraction: 0.0016772720000517438\n",
      "Sweep n: 0\n",
      "\n",
      "Time of H_eff contraction: 0.0005927530000917614\n",
      "Time of H_eff reshaping: 0.00032288500005961396\n",
      "Time of eigsh during eigensolver for site 1: 1.1021044129993243\n",
      "Time of svd during update state during sweeping right for site 1: 0.0006332440007099649\n",
      "Total time of state updating: 0.0008667049996802234\n",
      "Time of env updating: 0.0008356719999937923\n",
      "\n",
      "=========================================\n",
      "Time of site 1 optimization: 1.1048764639999717\n",
      "=========================================\n",
      "\n",
      "Time of H_eff contraction: 0.0004791830006070086\n",
      "Time of H_eff reshaping: 0.00031408300037583103\n",
      "Time of eigsh during eigensolver for site 2: 0.0009176809999189572\n",
      "Time of svd during update state during sweeping right for site 2: 0.00041022500045073684\n",
      "Total time of state updating: 0.00103007500001695\n",
      "Time of env updating: 0.0008948039994720602\n",
      "\n",
      "=========================================\n",
      "Time of site 2 optimization: 0.0036992710001868545\n",
      "=========================================\n",
      "\n",
      "Time of H_eff contraction: 0.0006008919999658247\n",
      "Time of H_eff reshaping: 0.0004028169996672659\n",
      "Time of eigsh during eigensolver for site 3: 0.0009730080000736052\n",
      "Time of svd during update state during sweeping right for site 3: 0.000407150000683032\n",
      "Total time of state updating: 0.000617720999798621\n",
      "Time of env updating: 0.0008314299993799068\n",
      "\n",
      "=========================================\n",
      "Time of site 3 optimization: 0.003492435999760346\n",
      "=========================================\n",
      "\n",
      "Sweep n: 1\n",
      "\n",
      "Time of H_eff contraction: 0.0004795969998667715\n",
      "Time of H_eff reshaping: 0.00036220999936631415\n",
      "Time of eigsh during eigensolver for site 4: 0.0006128529994384735\n",
      "Time of svd during update state during sweeping left for site 4: 0.00040805100070429035\n",
      "Total time of state updating: 0.0005947869994997745\n",
      "Time of env updating: 0.0004974450002919184\n",
      "\n",
      "=========================================\n",
      "Time of site 4 optimization: 0.0026067979997606017\n",
      "=========================================\n",
      "\n",
      "Time of H_eff contraction: 0.0005375720002120943\n",
      "Time of H_eff reshaping: 0.0003527099997882033\n",
      "Time of eigsh during eigensolver for site 3: 0.0008592120002504089\n",
      "Time of svd during update state during sweeping left for site 3: 0.000444022000010591\n",
      "Total time of state updating: 0.0006420569998226711\n",
      "Time of env updating: 0.000488300999677449\n",
      "\n",
      "=========================================\n",
      "Time of site 3 optimization: 0.002941247000308067\n",
      "=========================================\n",
      "\n",
      "Time of H_eff contraction: 0.0004704570001194952\n",
      "Time of H_eff reshaping: 0.0003714459999173414\n",
      "Time of eigsh during eigensolver for site 2: 0.0008811199995761854\n",
      "Time of svd during update state during sweeping left for site 2: 0.00042260700047336286\n",
      "Total time of state updating: 0.0010072169998238678\n",
      "Time of env updating: 0.0005337239999789745\n",
      "\n",
      "=========================================\n",
      "Time of site 2 optimization: 0.0033285389999946347\n",
      "=========================================\n",
      "\n",
      "[-4.140078683075673, -4.758770483143627, -4.758770483143631, -4.758770483143633, -4.758770483143632, -4.7587704831436355]\n"
     ]
    }
   ],
   "source": [
    "spin = MPS(L=4, d=2, model=\"Ising\", chi=4, J=1, h=1, eps=0)\n",
    "spin._random_state(seed=3, chi=4)\n",
    "spin.canonical_form()\n",
    "energies = spin.sweeping(trunc=True)\n",
    "print(energies)"
   ]
  },
  {
   "cell_type": "code",
   "execution_count": 18,
   "metadata": {},
   "outputs": [
    {
     "data": {
      "text/plain": [
       "7.465612580780707e-16"
      ]
     },
     "execution_count": 18,
     "metadata": {},
     "output_type": "execute_result"
    }
   ],
   "source": [
    "np.abs((energies[-1] - e[0])/energies[-1])"
   ]
  },
  {
   "cell_type": "code",
   "execution_count": null,
   "metadata": {},
   "outputs": [],
   "source": []
  }
 ],
 "metadata": {
  "kernelspec": {
   "display_name": "tensor_env",
   "language": "python",
   "name": "python3"
  },
  "language_info": {
   "codemirror_mode": {
    "name": "ipython",
    "version": 3
   },
   "file_extension": ".py",
   "mimetype": "text/x-python",
   "name": "python",
   "nbconvert_exporter": "python",
   "pygments_lexer": "ipython3",
   "version": "3.10.9"
  },
  "orig_nbformat": 4
 },
 "nbformat": 4,
 "nbformat_minor": 2
}
