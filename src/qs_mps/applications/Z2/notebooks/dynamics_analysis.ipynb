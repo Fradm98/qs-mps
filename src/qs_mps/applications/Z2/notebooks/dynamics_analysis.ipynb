{
 "cells": [
  {
   "cell_type": "code",
   "execution_count": 1,
   "metadata": {},
   "outputs": [],
   "source": [
    "%load_ext autoreload\n",
    "%autoreload 2\n",
    "import numpy as np\n",
    "from scipy.optimize import curve_fit\n",
    "\n",
    "from typing import Literal, Union\n",
    "\n",
    "from matplotlib.colors import LogNorm\n",
    "import matplotlib.pyplot as plt\n",
    "import matplotlib as mpl\n",
    "\n",
    "from qs_mps.utils import create_sequential_colors, load_list_of_lists, anim, get_cx, get_cy\n",
    "from qs_mps.mps_class import MPS\n",
    "\n",
    "# default parameters of the plot layout\n",
    "plt.rcParams[\"text.usetex\"] = True  # use latex\n",
    "plt.rcParams[\"font.size\"] = 13\n",
    "plt.rcParams[\"figure.dpi\"] = 300\n",
    "plt.rcParams[\"figure.constrained_layout.use\"] = True\n",
    "\n",
    "font = {'family': 'serif', 'size': 20}\n",
    "plt.rcParams.update({'font.family': font['family'], 'font.size': font['size']})\n",
    "\n",
    "model = \"Z2_dual\"\n",
    "path = \"marcos\"\n",
    "# path = \"pc\"\n",
    "cx = [3,37]\n",
    "cy = [3,3]\n",
    "# cx = None\n",
    "# cy = None\n",
    "\n",
    "if model == \"Ising\":\n",
    "    model_path = \"0_ISING\"\n",
    "\n",
    "elif model == \"Z2_dual\":\n",
    "    model_path = \"1_Z2\"\n",
    "    param_label = \"h\"\n",
    "    boundcond = \"obc\"\n",
    "    if cx == None:\n",
    "        sector = \"vacuum_sector\"\n",
    "    else:\n",
    "        sector = f\"{len(cx)}_particle(s)_sector\"\n",
    "\n",
    "elif model == \"ANNNI\":\n",
    "    model_path = \"2_ANNNI\"\n",
    "\n",
    "elif model == \"Cluster\":\n",
    "    model_path = \"3_CLUSTER\"\n",
    "else:\n",
    "    raise SyntaxError(\"Model not valid. Choose among 'Ising', 'Z2', 'ANNNI', 'Cluster'\")\n",
    "# take the path and precision to save files\n",
    "# if we want to save the tensors we save them locally because they occupy a lot of memory\n",
    "if path == \"pc\":\n",
    "    path_tensor = f\"C:/Users/HP/Desktop/projects/1_Z2\"\n",
    "    parent_path = path_tensor\n",
    "    path_figures = \"G:/My Drive/projects/1_Z2\"\n",
    "\n",
    "    # parent_path = \"G:/My Drive/projects/1_Z2\"\n",
    "    # path_tensor = \"D:/code/projects/1_Z2\"\n",
    "elif path == \"mac\":\n",
    "    # parent_path = \"/Users/fradm98/Google Drive/My Drive/projects/1_Z2\"\n",
    "    path_tensor = \"/Users/fradm98/Desktop/projects/1_Z2\"\n",
    "    parent_path = path_tensor\n",
    "elif path == \"marcos\":\n",
    "    path_figures = \"/Users/fradm/Google Drive/My Drive/projects/1_Z2\"\n",
    "    path_tensor = \"/Users/fradm/Desktop/projects/1_Z2\"\n",
    "    parent_path = path_tensor"
   ]
  },
  {
   "cell_type": "markdown",
   "metadata": {},
   "source": [
    "## Quantum Mutual Information"
   ]
  },
  {
   "cell_type": "markdown",
   "metadata": {},
   "source": [
    "Let us get a quantum state in mps form and get the reduced density matrix relative to a particular column.\n",
    "Compute the entropy with it and then trace out the parts of the column to isolate and compute again the entropies of the relative parts. Sum the two entropies of the subsystem and subtract with the initial entropy of the column."
   ]
  },
  {
   "cell_type": "code",
   "execution_count": 12,
   "metadata": {},
   "outputs": [
    {
     "name": "stdout",
     "output_type": "stream",
     "text": [
      "State not found! Computing DMRG\n",
      "Sweep n: 0\n",
      "\n",
      "Sweep n: 1\n",
      "\n",
      "the tensor at site 6 is in the correct RFC\n",
      "the tensor at site 5 is in the correct RFC\n",
      "the tensor at site 4 is in the correct RFC\n",
      "the tensor at site 3 is in the correct RFC\n",
      "the tensor at site 2 is in the correct RFC\n",
      "initial magentization is: (14.970639980346396+0j)\n",
      "time for saving: 0:00:00.005147\n"
     ]
    }
   ],
   "source": [
    "L = 5\n",
    "l = 3\n",
    "chi = 16\n",
    "h = 2\n",
    "bc = \"pbc\"\n",
    "\n",
    "precision = 2\n",
    "mps = MPS(L=L, d=2**l, model=\"Z2_dual\", chi=chi, h=h, bc=bc)\n",
    "sector_vac = \"vacuum_sector\"\n",
    "cx_vac = np.nan\n",
    "cy_vac = np.nan\n",
    "if sector_vac != \"vacuum_sector\":\n",
    "    mps.Z2.add_charges(cx_vac, cy_vac)\n",
    "    mps.charges = mps.Z2.charges\n",
    "    mps.Z2._define_sector()\n",
    "else:\n",
    "    mps.Z2._define_sector()\n",
    "\n",
    "try:\n",
    "    mps.load_sites(\n",
    "        path=path_tensor, precision=precision, cx=cx_vac, cy=cy_vac\n",
    "    )\n",
    "    print(\"State found!!\")\n",
    "except:\n",
    "    print(\"State not found! Computing DMRG\")\n",
    "    mps._random_state(seed=3, type_shape=\"rectangular\", chi=chi)\n",
    "    mps.canonical_form()\n",
    "    mps.sites.append(np.random.rand(1,2,1))\n",
    "    mps.L = len(mps.sites)\n",
    "    energy, entropy, schmidt_vals, t_dmrg = mps.DMRG(trunc_chi=True, trunc_tol=False, where=L//2, long=\"Z\", trans=\"X\")\n",
    "    mps.check_canonical(site=1)\n",
    "    aux_qub = mps.sites.pop()\n",
    "    mps.L -= 1\n",
    "\n",
    "    mps.order_param()\n",
    "    mag = mps.mpo_first_moment()\n",
    "    print(f\"initial magentization is: {mag}\")\n",
    "\n",
    "    # mps.sites = [tensor.astype(np.complex128) for tensor in mps.sites]\n",
    "    mps.save_sites(path=path_tensor, precision=precision, cx=cx_vac, cy=cy_vac)\n"
   ]
  },
  {
   "cell_type": "code",
   "execution_count": 13,
   "metadata": {},
   "outputs": [
    {
     "data": {
      "text/plain": [
       "(8, 8)"
      ]
     },
     "execution_count": 13,
     "metadata": {},
     "output_type": "execute_result"
    }
   ],
   "source": [
    "rdm_mid = mps.reduced_density_matrix(sites=[2])\n",
    "rdm_mid.shape"
   ]
  },
  {
   "cell_type": "code",
   "execution_count": 14,
   "metadata": {},
   "outputs": [
    {
     "data": {
      "text/plain": [
       "(-1.0426035521385251e-05+1.3014139365667713e-18j)"
      ]
     },
     "execution_count": 14,
     "metadata": {},
     "output_type": "execute_result"
    }
   ],
   "source": [
    "from scipy.linalg import logm\n",
    "(rdm_mid @ logm(rdm_mid)).trace()"
   ]
  },
  {
   "cell_type": "markdown",
   "metadata": {},
   "source": [
    "Now we need to trace out the spins we want in the column and find their entropy"
   ]
  },
  {
   "cell_type": "code",
   "execution_count": null,
   "metadata": {},
   "outputs": [],
   "source": []
  }
 ],
 "metadata": {
  "kernelspec": {
   "display_name": "Python 3",
   "language": "python",
   "name": "python3"
  },
  "language_info": {
   "codemirror_mode": {
    "name": "ipython",
    "version": 3
   },
   "file_extension": ".py",
   "mimetype": "text/x-python",
   "name": "python",
   "nbconvert_exporter": "python",
   "pygments_lexer": "ipython3",
   "version": "3.12.3"
  }
 },
 "nbformat": 4,
 "nbformat_minor": 2
}
