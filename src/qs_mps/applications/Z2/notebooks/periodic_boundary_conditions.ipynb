{
 "cells": [
  {
   "cell_type": "markdown",
   "metadata": {},
   "source": [
    "# Periodic Boundary Conditions"
   ]
  },
  {
   "cell_type": "code",
   "execution_count": 7,
   "metadata": {},
   "outputs": [],
   "source": [
    "import numpy as np\n",
    "from scipy.sparse import csc_array\n",
    "\n",
    "import matplotlib.pyplot as plt\n",
    "import matplotlib as mpl\n",
    "\n",
    "from qs_mps.applications.Z2.exact_hamiltonian import *\n",
    "from qs_mps.sparse_hamiltonians_and_operators import diagonalization, sparse_magnetization, sparse_pauli_x, sparse_pauli_z\n",
    "from qs_mps.mps_class import MPS"
   ]
  },
  {
   "cell_type": "markdown",
   "metadata": {},
   "source": [
    "## Direct Hamiltonian"
   ]
  },
  {
   "cell_type": "code",
   "execution_count": 8,
   "metadata": {},
   "outputs": [],
   "source": [
    "def direct_ham(l, L, g):\n",
    "    # degrees of freedom\n",
    "    dof = l*(L+1) + l*L\n",
    "    \n",
    "    # initialize\n",
    "    O = csc_array((2**dof, 2**dof), dtype=complex)\n",
    "    H_sigmas = O\n",
    "    H_taus = O\n",
    "    H_plaquettes = O\n",
    "\n",
    "    # horizontal terms\n",
    "    for i in range(l*L):\n",
    "        H_taus += sparse_pauli_x(n=i, L=dof)\n",
    "\n",
    "    # vertical terms\n",
    "    for i in range(l*L,l*(L+1)+l*L):\n",
    "        H_sigmas += sparse_pauli_x(n=i, L=dof)\n",
    "\n",
    "    # plaquettes terms\n",
    "    for i in range(l*L-2):\n",
    "        H_plaquettes += sparse_pauli_z(n=i, L=dof) @ sparse_pauli_z(n=i+2, L=dof) @ sparse_pauli_z(n=i+6, L=dof) @ sparse_pauli_z(n=i+7, L=dof)\n",
    "\n",
    "    # plaquettes terms last for pbc\n",
    "    for j in range(L):\n",
    "        H_plaquettes += sparse_pauli_z(n=i, L=dof) @ sparse_pauli_z(n=j, L=dof) @ sparse_pauli_z(n=i+6, L=dof) @ sparse_pauli_z(n=i+7, L=dof)\n",
    "\n",
    "    return - g * H_sigmas - g * H_taus - 1/g * H_plaquettes"
   ]
  },
  {
   "cell_type": "code",
   "execution_count": 11,
   "metadata": {},
   "outputs": [
    {
     "name": "stdout",
     "output_type": "stream",
     "text": [
      "[-10.67000647]\n"
     ]
    }
   ],
   "source": [
    "l = 2\n",
    "L = 2\n",
    "g = 1\n",
    "H_dir = direct_ham(l,L,g)\n",
    "e, v = diagonalization(H_dir, sparse=True)\n",
    "print(e)"
   ]
  },
  {
   "cell_type": "markdown",
   "metadata": {},
   "source": [
    "## Dual Hamiltonian"
   ]
  },
  {
   "cell_type": "code",
   "execution_count": 61,
   "metadata": {},
   "outputs": [],
   "source": [
    "def dual_ham(l,L,g):\n",
    "    # degrees of freedom\n",
    "    dof = l*L + 1\n",
    "\n",
    "    # charges\n",
    "    charges = np.ones((l,L+1))\n",
    "    prod_charges = [1] + np.prod(charges[1:], axis=1).tolist()\n",
    "\n",
    "    # initialize\n",
    "    O = csc_array((2**dof, 2**dof), dtype=complex)\n",
    "    H_sigmas = O\n",
    "    H_taus = O\n",
    "    H_plaquettes = O\n",
    "\n",
    "    # first column of sigma are local\n",
    "    for i in range(l):\n",
    "        H_sigmas += sparse_pauli_z(n=i*L, L=dof)\n",
    "    \n",
    "    # horizontal zz interactions, we exclude the last column of sigmas\n",
    "    for j in range(l):\n",
    "        for i in range(L-1):\n",
    "            H_sigmas += sparse_pauli_z(n=i+j*L, L=dof) @ sparse_pauli_z(n=(i+1)+j*L, L=dof)\n",
    "\n",
    "    # horizontal zz interactions, last column of sigmas\n",
    "    for j in range(l):\n",
    "        H_sigmas += np.prod(prod_charges[:(j+1)]) * sparse_pauli_z(n=j*L+L-1, L=dof) @ sparse_pauli_z(n=l*L, L=dof)\n",
    "\n",
    "    # vertical zz interactions \n",
    "    for j in range(L):\n",
    "        for i in range(l):\n",
    "            np.prod(charges[(i+1)%l,:(j+1)]) * sparse_pauli_z(n=i*L+j, L=dof) @ sparse_pauli_z(n=((i+1)%l)*L+j, L=dof)\n",
    "\n",
    "    # plaquette terms\n",
    "    for i in range(l*L):\n",
    "        H_plaquettes += sparse_pauli_x(n=i, L=dof)\n",
    "\n",
    "    return - g * H_sigmas - g * H_taus - 1/g * H_plaquettes"
   ]
  },
  {
   "cell_type": "code",
   "execution_count": 65,
   "metadata": {},
   "outputs": [
    {
     "name": "stdout",
     "output_type": "stream",
     "text": [
      "[-6.98791841]\n"
     ]
    }
   ],
   "source": [
    "L = 2\n",
    "l = 2\n",
    "g = 1\n",
    "H_dual = dual_ham(l,L,g)\n",
    "e,v = diagonalization(H_dual, sparse=True)\n",
    "print(e)\n"
   ]
  }
 ],
 "metadata": {
  "kernelspec": {
   "display_name": "mps",
   "language": "python",
   "name": "python3"
  },
  "language_info": {
   "codemirror_mode": {
    "name": "ipython",
    "version": 3
   },
   "file_extension": ".py",
   "mimetype": "text/x-python",
   "name": "python",
   "nbconvert_exporter": "python",
   "pygments_lexer": "ipython3",
   "version": "3.11.4"
  }
 },
 "nbformat": 4,
 "nbformat_minor": 2
}
