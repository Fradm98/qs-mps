{
 "cells": [
  {
   "cell_type": "code",
   "execution_count": 3,
   "metadata": {},
   "outputs": [],
   "source": [
    "import numpy as np\n",
    "from scipy.optimize import curve_fit\n",
    "import matplotlib.pyplot as plt\n",
    "import matplotlib as mpl\n",
    "from matplotlib.colors import LogNorm\n",
    "\n",
    "from qs_mps.utils import create_sequential_colors\n",
    "\n",
    "# default parameters of the plot layout\n",
    "plt.rcParams[\"text.usetex\"] = True  # use latex\n",
    "plt.rcParams[\"font.size\"] = 13\n",
    "plt.rcParams[\"figure.dpi\"] = 300\n",
    "plt.rcParams[\"figure.constrained_layout.use\"] = True\n",
    "\n",
    "font = {'family': 'serif', 'size': 20}\n",
    "plt.rcParams.update({'font.family': font['family'], 'font.size': font['size']})\n",
    "\n",
    "model = \"Z2_dual\"\n",
    "path = \"mac\"\n",
    "cx = [3,37]\n",
    "cy = [3,3]\n",
    "# cx = None\n",
    "# cy = None\n",
    "\n",
    "if model == \"Ising\":\n",
    "    model_path = \"0_ISING\"\n",
    "\n",
    "elif model == \"Z2_dual\":\n",
    "    model_path = \"1_Z2\"\n",
    "    param_label = \"h\"\n",
    "    boundcond = \"obc\"\n",
    "    if cx == None:\n",
    "        sector = \"vacuum_sector\"\n",
    "    else:\n",
    "        sector = f\"{len(cx)}_particle(s)_sector\"\n",
    "\n",
    "elif model == \"ANNNI\":\n",
    "    model_path = \"2_ANNNI\"\n",
    "\n",
    "elif model == \"Cluster\":\n",
    "    model_path = \"3_CLUSTER\"\n",
    "else:\n",
    "    raise SyntaxError(\"Model not valid. Choose among 'Ising', 'Z2', 'ANNNI', 'Cluster'\")\n",
    "# take the path and precision to save files\n",
    "# if we want to save the tensors we save them locally because they occupy a lot of memory\n",
    "if path == \"pc\":\n",
    "    parent_path = f\"C:/Users/HP/Desktop/projects/1_Z2\"\n",
    "    # parent_path = \"G:/My Drive/projects/1_Z2\"\n",
    "    path_tensor = \"D:/code/projects/1_Z2\"\n",
    "elif path == \"mac\":\n",
    "    # parent_path = \"/Users/fradm98/Google Drive/My Drive/projects/1_Z2\"\n",
    "    path_tensor = \"/Users/fradm98/Desktop/projects/1_Z2\"\n",
    "    parent_path = path_tensor\n",
    "elif path == \"marcos\":\n",
    "    # parent_path = \"/Users/fradm/Google Drive/My Drive/projects/1_Z2\"\n",
    "    path_tensor = \"/Users/fradm/Desktop/projects/1_Z2\"\n",
    "    parent_path = path_tensor"
   ]
  },
  {
   "cell_type": "markdown",
   "metadata": {},
   "source": [
    "# Charge Sector Analysis"
   ]
  },
  {
   "cell_type": "markdown",
   "metadata": {},
   "source": [
    "We want to explore the two particle sector of you $Z_2$ pure lattice gauge theory. \n",
    "The study of the potential already can tell us more about the physics of the system. \n",
    "\n",
    "From the decoupling phase at small values of the Eletric coupling constant $g$, the charges are free so that there is no attractive potential between the two charges. If we express the potential as the difference between the vacuum ground state and the two charges ground state, in the **decoupling phase**, this quantity corresponds to the free energy of the particles.\n",
    "\n",
    "Entering the confining phase, the energy between the charges forms a string of electric flux which is dominated by fluctuations. This is called the **roughening phase**. This phase is supposed to be dominant for a certain region of coupling values up to the roughening transition which is said to be an infinite order phase transition. \n",
    "\n",
    "After the transition, for large values of eletric coupling, the negative electric field is confined along the shortest path separating the two charges, reaching indeed the **confinig phase**.\n",
    "\n",
    "Thus, we will see in this notebook the potential in these different phases"
   ]
  },
  {
   "cell_type": "markdown",
   "metadata": {},
   "source": [
    "## Study of the potential $V(g,R)$"
   ]
  },
  {
   "cell_type": "markdown",
   "metadata": {},
   "source": [
    "The static potential, according with what has been just said, depends on the electric coupling $g$ but also on the distance between the two charges defined as $R$.\n",
    "The potential in the roughening phase seems to have a correction term\n",
    "\n",
    "$$ V(g,R) = \\sigma R + \\mu + \\gamma\\frac{1}{R} + O\\left(\\frac{1}{R^2}\\right) \\quad .$$\n",
    "\n",
    "But there are systematic and statistical errors to take into account because of our numerical simulations.\n",
    "The accuracy of the ground state energy is limited by the bond dimension $\\chi$ and finite size effects could arise because of the lattice with shape $l$ x $L$.\n",
    "\n",
    "Thus, we now focus on some specific values of $g,R$, we fix the lattice and find the value of the potential for infinite bond dimension.\n",
    "Once we have eliminated the dependency of the potential from the bond dimension, we can study the finite size effects. Finally we will get the $V(g,R)$ and we can extract the string tension $\\sigma$ and the luscher term $\\gamma$."
   ]
  },
  {
   "cell_type": "markdown",
   "metadata": {},
   "source": [
    "# Study of the potential $V(g,R,L,\\chi)$\n",
    "\n",
    "The bond dimension $\\chi$ is our free parameter"
   ]
  },
  {
   "cell_type": "code",
   "execution_count": 16,
   "metadata": {},
   "outputs": [],
   "source": [
    "npoints, h_i, h_f, chi = 30, 0.8, 1.0, 128\n",
    "l, L = 6, 30\n",
    "R = 24\n",
    "interval = np.linspace(h_i,h_f,npoints)\n",
    "g = 0.8"
   ]
  },
  {
   "cell_type": "code",
   "execution_count": 17,
   "metadata": {},
   "outputs": [],
   "source": [
    "def get_cx(L,R):\n",
    "    assert 0 < R < L, \"The fluxtube is longer than the lattice length\"\n",
    "    return [L//2-R//2,L//2+R//2]\n",
    "\n",
    "def get_cy(l):\n",
    "    return [l//2,l//2]"
   ]
  },
  {
   "cell_type": "code",
   "execution_count": 18,
   "metadata": {},
   "outputs": [],
   "source": [
    "def static_potential(g,R,l,L,chi):\n",
    "    cx = get_cx(L,R)\n",
    "    cy = get_cy(l)\n",
    "    energy_charges = np.load(f\"{path_tensor}/results/energy_data/energy_Z2_dual_direct_lattice_{l}x{L}_{sector}_bc_{boundcond}_{cx}-{cy}_h_{h_i}-{h_f}_delta_{npoints}_chi_{chi}.npy\")\n",
    "    energy_vacuum = np.load(f\"{path_tensor}/results/energy_data/energy_Z2_dual_direct_lattice_{l}x{L}_vacuum_sector_bc_{boundcond}_None-None_h_{h_i}-{h_f}_delta_{npoints}_chi_{chi}.npy\")\n",
    "    energy_difference = np.abs(energy_charges - energy_vacuum)\n",
    "\n",
    "    for i, val in energy_difference:\n",
    "        if round(g,3) == round(interval[i],3):\n",
    "            return val\n",
    "        \n",
    "def static_potential_chis(g,R,l,L,chis):\n",
    "    st_pots = []\n",
    "    for chi in chis:\n",
    "        st_pot = static_potential(g,R,l,L,chi)\n",
    "        st_pots.append(st_pot)\n",
    "    return st_pots"
   ]
  },
  {
   "cell_type": "code",
   "execution_count": null,
   "metadata": {},
   "outputs": [],
   "source": [
    "chis = [32,64,128]\n",
    "potentials = static_potential_chis(g,R,l,L,chis)\n",
    "\n"
   ]
  }
 ],
 "metadata": {
  "kernelspec": {
   "display_name": "mps",
   "language": "python",
   "name": "python3"
  },
  "language_info": {
   "codemirror_mode": {
    "name": "ipython",
    "version": 3
   },
   "file_extension": ".py",
   "mimetype": "text/x-python",
   "name": "python",
   "nbconvert_exporter": "python",
   "pygments_lexer": "ipython3",
   "version": "3.11.4"
  }
 },
 "nbformat": 4,
 "nbformat_minor": 2
}
