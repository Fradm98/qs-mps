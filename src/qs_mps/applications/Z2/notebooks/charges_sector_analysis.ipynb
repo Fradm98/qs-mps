{
 "cells": [
  {
   "cell_type": "markdown",
   "metadata": {},
   "source": [
    "# Charge Sector Analysis"
   ]
  },
  {
   "cell_type": "markdown",
   "metadata": {},
   "source": [
    "We want to explore the two particle sector of you $Z_2$ pure lattice gauge theory. \n",
    "The study of the potential already can tell us more about the physics of the system. \n",
    "\n",
    "From the decoupling phase at small values of the Eletric coupling constant $g$, the charges are free so that there is no attractive potential between the two charges. If we express the potential as the difference between the vacuum ground state and the two charges ground state, in the **decoupling phase**, this quantity corresponds to the free energy of the particles.\n",
    "\n",
    "Entering the confining phase, the energy between the charges forms a string of electric flux which is dominated by fluctuations. This is called the **roughening phase**. This phase is supposed to be dominant for a certain region of coupling values up to the roughening transition which is said to be an infinite order phase transition. \n",
    "\n",
    "After the transition, for large values of eletric coupling, the negative electric field is confined along the shortest path separating the two charges, reaching indeed the **confinig phase**.\n",
    "\n",
    "Thus, we will see in this notebook the potential in these different phases"
   ]
  },
  {
   "cell_type": "markdown",
   "metadata": {},
   "source": [
    "## Study of the potential $V(g,R)$"
   ]
  },
  {
   "cell_type": "markdown",
   "metadata": {},
   "source": [
    "The static potential, according with what has been just said, depends on the electric coupling $g$ but also on the distance between the two charges defined as $R$.\n",
    "The potential in the roughening phase seems to have a correction term\n",
    "\n",
    "$$ V(g,R) = \\sigma R + \\mu - \\gamma\\frac{1}{R} $$"
   ]
  }
 ],
 "metadata": {
  "language_info": {
   "name": "python"
  }
 },
 "nbformat": 4,
 "nbformat_minor": 2
}
