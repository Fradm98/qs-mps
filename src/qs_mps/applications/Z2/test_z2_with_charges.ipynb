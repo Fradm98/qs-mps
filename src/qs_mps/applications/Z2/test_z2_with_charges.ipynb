{
 "cells": [
  {
   "cell_type": "code",
   "execution_count": 1,
   "metadata": {},
   "outputs": [],
   "source": [
    "from qs_mps.mpo_class import MPO_ladder\n",
    "from qs_mps.mps_class import MPS\n",
    "from qs_mps.applications.Z2.exact_hamiltonian import H_Z2_gauss\n",
    "from qs_mps.sparse_hamiltonians_and_operators import sparse_pauli_z, sparse_pauli_x\n",
    "from qs_mps.utils import tensor_shapes, get_precision\n",
    "import numpy as np"
   ]
  },
  {
   "cell_type": "code",
   "execution_count": 2,
   "metadata": {},
   "outputs": [],
   "source": [
    "z2_mpo = MPO_ladder(l=2,L=3,model=\"Z2_dual\", lamb=0)\n",
    "z2_exact = H_Z2_gauss(l=3,L=3,model=\"Z2_dual\", lamb=0)"
   ]
  },
  {
   "cell_type": "code",
   "execution_count": 3,
   "metadata": {},
   "outputs": [
    {
     "name": "stdout",
     "output_type": "stream",
     "text": [
      "[[-1.  1. -1.]\n",
      " [ 1.  1.  1.]\n",
      " [ 1.  1.  1.]]\n",
      "[[-1.  1. -1.]\n",
      " [ 1.  1.  1.]\n",
      " [ 1.  1.  1.]]\n"
     ]
    }
   ],
   "source": [
    "cx = [2,0]\n",
    "cy = [0,0]\n",
    "z2_mpo.add_charges(cx,cy)\n",
    "print(z2_mpo.charges)\n",
    "z2_exact.add_charges(cx,cy)\n",
    "print(z2_exact.charges)"
   ]
  },
  {
   "cell_type": "code",
   "execution_count": 4,
   "metadata": {},
   "outputs": [],
   "source": [
    "def thooft():\n",
    "    z2_mpo.mpo_skeleton()\n",
    "    mpo_tot = []\n",
    "    for mpo_site in range(z2_mpo.L-1):\n",
    "        if mpo_site == 0:\n",
    "            z2_mpo.mpo[0,-1] = z2_mpo.charge_coeff_v(mpo_site=0, l=0) * sparse_pauli_z(n=1, L=z2_mpo.l).toarray()\n",
    "        mpo_tot.append(z2_mpo.mpo)\n",
    "        z2_mpo.mpo_skeleton()\n",
    "    \n",
    "    z2_mpo.mpo = mpo_tot\n",
    "    return z2_mpo"
   ]
  },
  {
   "cell_type": "code",
   "execution_count": 5,
   "metadata": {},
   "outputs": [
    {
     "name": "stdout",
     "output_type": "stream",
     "text": [
      "(4, 4, 4, 4)\n",
      "(4, 4, 4, 4)\n"
     ]
    },
    {
     "data": {
      "text/plain": [
       "[(4, 4, 4, 4), (4, 4, 4, 4)]"
      ]
     },
     "execution_count": 5,
     "metadata": {},
     "output_type": "execute_result"
    }
   ],
   "source": [
    "z2_mpo_new = thooft()\n",
    "tensor_shapes(z2_mpo_new.mpo)"
   ]
  },
  {
   "cell_type": "code",
   "execution_count": 6,
   "metadata": {},
   "outputs": [
    {
     "data": {
      "text/plain": [
       "<qs_mps.mps_class.MPS at 0x117618110>"
      ]
     },
     "execution_count": 6,
     "metadata": {},
     "output_type": "execute_result"
    }
   ],
   "source": [
    "mps = MPS(L=3, d=2**2, model=\"Z2_dual\", chi=4, h=0)\n",
    "mps.load_sites(\"/Users/fradm98/Desktop/projects/1_Z2\", cx=cx, cy=cy)"
   ]
  },
  {
   "cell_type": "code",
   "execution_count": 7,
   "metadata": {},
   "outputs": [
    {
     "name": "stdout",
     "output_type": "stream",
     "text": [
      "(-0.9999999999999998+0j)\n"
     ]
    }
   ],
   "source": [
    "mps.w = z2_mpo_new.mpo\n",
    "mps.L = 2\n",
    "print(mps.mpo_first_moment())"
   ]
  },
  {
   "cell_type": "code",
   "execution_count": 28,
   "metadata": {},
   "outputs": [],
   "source": [
    "# define the initial guess state\n",
    "dof = z2_exact.dof\n",
    "c = (1/np.sqrt(2))**dof\n",
    "v0 = [c]*(2**dof)\n",
    "v0 = np.array(v0, dtype=complex)\n",
    "e, v = z2_exact.diagonalize(v0, save=False, sparse=False)\n",
    "psi = v[:,0]"
   ]
  },
  {
   "cell_type": "code",
   "execution_count": 29,
   "metadata": {},
   "outputs": [
    {
     "name": "stdout",
     "output_type": "stream",
     "text": [
      "[-0.015625+0.j -0.015625+0.j -0.015625+0.j -0.015625+0.j  0.015625+0.j\n",
      "  0.015625+0.j  0.015625+0.j  0.015625+0.j -0.015625+0.j -0.015625+0.j]\n"
     ]
    }
   ],
   "source": [
    "print(psi[:10])"
   ]
  },
  {
   "cell_type": "code",
   "execution_count": 20,
   "metadata": {},
   "outputs": [
    {
     "name": "stdout",
     "output_type": "stream",
     "text": [
      "      +-- 7--+-- 8--+-- 9--+      \n",
      "      |      |      |      |      \n",
      "      14     15     16     17\n",
      "      |      |      |      |      \n",
      "      +-- 4--+-- 5--+-- 6--+      \n",
      "      |      |      |      |      \n",
      "      10     11     12     13\n",
      "      |      |      |      |      \n",
      "      +-- 1--+-- 2--+-- 3--+      \n",
      "\n",
      "[[-1.  1.  1. -1.]\n",
      " [ 1.  1.  1.  1.]\n",
      " [ 1.  1.  1.  1.]]\n"
     ]
    }
   ],
   "source": [
    "print(f\"{z2_exact.latt._lattice_drawer.draw_lattice()}\")\n",
    "print(z2_exact.charges)"
   ]
  },
  {
   "cell_type": "code",
   "execution_count": 31,
   "metadata": {},
   "outputs": [
    {
     "name": "stdout",
     "output_type": "stream",
     "text": [
      "(0, 7, 2, 6)\n"
     ]
    }
   ],
   "source": [
    "print(z2_exact.latt.plaquettes(from_zero=True)[0])"
   ]
  },
  {
   "cell_type": "code",
   "execution_count": 37,
   "metadata": {},
   "outputs": [],
   "source": [
    "op = sparse_pauli_x(n=6,L=z2_exact.dof) @ sparse_pauli_x(n=11,L=z2_exact.dof)"
   ]
  },
  {
   "cell_type": "code",
   "execution_count": 38,
   "metadata": {},
   "outputs": [
    {
     "name": "stdout",
     "output_type": "stream",
     "text": [
      "(-1.000000000000019+0j)\n"
     ]
    }
   ],
   "source": [
    "print(psi.T @ op @ psi)"
   ]
  },
  {
   "cell_type": "code",
   "execution_count": null,
   "metadata": {},
   "outputs": [],
   "source": []
  },
  {
   "cell_type": "code",
   "execution_count": 19,
   "metadata": {},
   "outputs": [
    {
     "data": {
      "text/plain": [
       "array([[        nan, -0.01231739,         nan,  0.08268206,         nan,\n",
       "        -0.01231739,         nan],\n",
       "       [ 0.01231739,         nan,  0.04894271,         nan,  0.04894271,\n",
       "                nan,  0.01231739],\n",
       "       [        nan,  0.05022732,         nan,  0.03846314,         nan,\n",
       "         0.05022732,         nan],\n",
       "       [ 0.20708399,         nan,  0.07378442,         nan,  0.07378442,\n",
       "                nan,  0.20708399],\n",
       "       [        nan,  0.20708399,         nan,  0.12975675,         nan,\n",
       "         0.20708399,         nan]])"
      ]
     },
     "execution_count": 19,
     "metadata": {},
     "output_type": "execute_result"
    }
   ],
   "source": [
    "E_h = np.zeros((2*3-1,2*4-1))\n",
    "E_h[:] = np.nan\n",
    "z2_exact.electric_field(psi=psi, E=E_h)"
   ]
  },
  {
   "cell_type": "markdown",
   "metadata": {},
   "source": [
    "Try a phase diagram plot"
   ]
  },
  {
   "cell_type": "code",
   "execution_count": 19,
   "metadata": {},
   "outputs": [
    {
     "name": "stdout",
     "output_type": "stream",
     "text": [
      "      +-- 7--+-- 8--+      \n",
      "      |      |      |      \n",
      "      15     16     17\n",
      "      |      |      |      \n",
      "      +-- 5--+-- 6--+      \n",
      "      |      |      |      \n",
      "      12     13     14\n",
      "      |      |      |      \n",
      "      +-- 3--+-- 4--+      \n",
      "      |      |      |      \n",
      "      9      10     11\n",
      "      |      |      |      \n",
      "      +-- 1--+-- 2--+      \n",
      "\n",
      "[[-1.  1. -1.]\n",
      " [ 1.  1.  1.]\n",
      " [ 1.  1.  1.]\n",
      " [ 1.  1.  1.]]\n"
     ]
    }
   ],
   "source": [
    "l = 4\n",
    "L = 3\n",
    "z2_exact = H_Z2_gauss(l=l,L=L,model=\"Z2_dual\", lamb=0)\n",
    "print(f\"{z2_exact.latt._lattice_drawer.draw_lattice()}\")\n",
    "z2_exact.add_charges(rows=[0,2],columns=[0,0])\n",
    "print(z2_exact.charges)\n",
    "plaq_tot = z2_exact.latt.plaquettes()"
   ]
  },
  {
   "cell_type": "markdown",
   "metadata": {},
   "source": [
    "### Vertical strings for ED"
   ]
  },
  {
   "cell_type": "code",
   "execution_count": 18,
   "metadata": {},
   "outputs": [
    {
     "name": "stdout",
     "output_type": "stream",
     "text": [
      "[1, 3]\n"
     ]
    }
   ],
   "source": [
    "mpo_site = 0\n",
    "r=1\n",
    "plaq_tot_spl = np.array_split(plaq_tot, L-1)\n",
    "plaqs = [pl for pl in plaq_tot_spl[mpo_site]].copy()\n",
    "# plaqs.reverse()\n",
    "pauli = []\n",
    "for i in range(l-r-1):\n",
    "    pauli = pauli + [plaqs[i][0]]\n",
    "print(pauli)"
   ]
  },
  {
   "cell_type": "markdown",
   "metadata": {},
   "source": [
    "### Horizontal strings for ED"
   ]
  },
  {
   "cell_type": "code",
   "execution_count": 45,
   "metadata": {},
   "outputs": [
    {
     "name": "stdout",
     "output_type": "stream",
     "text": [
      "[17, 18, 19]\n"
     ]
    }
   ],
   "source": [
    "mpo_site = 2\n",
    "L=5\n",
    "l=2\n",
    "plaq_tot_spl = np.array_split(plaq_tot, L-1)\n",
    "plaqs = np.swapaxes(plaq_tot_spl, axis1=0, axis2=1)\n",
    "plaqs = [pl for pl in plaqs].copy()\n",
    "plaqs.reverse()\n",
    "plaqs_h = plaqs[l].copy()\n",
    "pauli = []\n",
    "for i in range(mpo_site+1):\n",
    "    pauli = pauli + [plaqs_h[i][3]]\n",
    "print(pauli)"
   ]
  },
  {
   "cell_type": "code",
   "execution_count": 15,
   "metadata": {},
   "outputs": [
    {
     "name": "stdout",
     "output_type": "stream",
     "text": [
      "Computing `t Hooft string for h: 0.0\n",
      "Computing `t Hooft string for h: 1.1\n",
      "Computing `t Hooft string for h: 2.2\n",
      "Computing `t Hooft string for h: 3.3\n",
      "Computing `t Hooft string for h: 4.4\n",
      "Computing `t Hooft string for h: 5.6\n",
      "Computing `t Hooft string for h: 6.7\n",
      "Computing `t Hooft string for h: 7.8\n",
      "Computing `t Hooft string for h: 8.9\n",
      "Computing `t Hooft string for h: 10.0\n"
     ]
    }
   ],
   "source": [
    "from scipy.sparse import identity\n",
    "h_i = 0\n",
    "h_f = 10\n",
    "npoints = 10\n",
    "hs = np.linspace(h_i,h_f,npoints)\n",
    "num = (h_f - h_i) / npoints\n",
    "precision = get_precision(num)\n",
    "cx = [2,0]\n",
    "cy = [0,0]\n",
    "l=4\n",
    "L=3\n",
    "dof = 2*l*L -l - L\n",
    "op = identity(n=2**dof)\n",
    "for idx in pauli:\n",
    "    op = op @ sparse_pauli_x(n=idx,L=dof)\n",
    "\n",
    "thooft_mpo = []\n",
    "thooft_ed = []\n",
    "for h in hs:\n",
    "    print(f\"Computing `t Hooft string for h: {h:.1f}\")\n",
    "    mps = MPS(L=L, d=2**(l-1), model=\"Z2_dual\", chi=2**(l-1), h=h)\n",
    "    mps.L = L-1\n",
    "    mps.load_sites(\"/Users/fradm98/Desktop/projects/1_Z2\", precision=precision, cx=cx, cy=cy)\n",
    "    mps.Z2.add_charges(cx,cy)\n",
    "    mps.Z2.thooft(site=[0], l=[1], direction=\"vertical\")\n",
    "    mps.w = mps.Z2.mpo.copy()\n",
    "    \n",
    "    thooft_mpo.append(mps.mpo_first_moment().real)\n",
    "\n",
    "    z2_exact = H_Z2_gauss(l=l,L=L,model=\"Z2_dual\", lamb=h)\n",
    "    z2_exact.add_charges(cx,cy)\n",
    "    dof = z2_exact.dof\n",
    "    c = (1/np.sqrt(2))**dof\n",
    "    v0 = [c]*(2**dof)\n",
    "    v0 = np.array(v0, dtype=complex)\n",
    "    e, v = z2_exact.diagonalize(v0, cx=cx, cy=cy, precision=precision, path=\"/Users/fradm98/Desktop/projects/1_Z2\")\n",
    "    psi = v[:,0]\n",
    "    # np.load(\"/Users/fradm98/Desktop/projects/1_Z2/results/eigenvectors/\")\n",
    "    thooft_ed.append((psi.T.conjugate() @ op @ psi).real)"
   ]
  },
  {
   "cell_type": "code",
   "execution_count": 16,
   "metadata": {},
   "outputs": [
    {
     "data": {
      "image/png": "[encoded data removed]",
      "text/plain": [
       "<Figure size 640x480 with 1 Axes>"
      ]
     },
     "metadata": {},
     "output_type": "display_data"
    }
   ],
   "source": [
    "import matplotlib.pyplot as plt\n",
    "\n",
    "plt.plot(hs, thooft_mpo, '+', label='dmrg')\n",
    "plt.plot(hs, thooft_ed, label='ed')\n",
    "plt.legend()\n",
    "plt.show()"
   ]
  }
 ],
 "metadata": {
  "kernelspec": {
   "display_name": "mps",
   "language": "python",
   "name": "python3"
  },
  "language_info": {
   "codemirror_mode": {
    "name": "ipython",
    "version": 3
   },
   "file_extension": ".py",
   "mimetype": "text/x-python",
   "name": "python",
   "nbconvert_exporter": "python",
   "pygments_lexer": "ipython3",
   "version": "3.11.4"
  }
 },
 "nbformat": 4,
 "nbformat_minor": 2
}
