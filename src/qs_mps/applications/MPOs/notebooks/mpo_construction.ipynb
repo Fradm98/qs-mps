{
 "cells": [
  {
   "cell_type": "code",
   "execution_count": 10,
   "metadata": {},
   "outputs": [],
   "source": [
    "from sympy import *\n",
    "\n",
    "i, i2, o, o2, z = symbols(\"I I_2 O O_2 Z\", commutative=False)\n",
    "delta, g = symbols(\"\\delta g\")"
   ]
  },
  {
   "cell_type": "code",
   "execution_count": 20,
   "metadata": {},
   "outputs": [
    {
     "data": {
      "text/latex": [
       "$\\displaystyle \\left[\\begin{matrix}\\left(\\left(I^{2} + Z O\\right) I + \\left(I O + Z I\\right) O\\right) O_{2} + \\left(\\left(I^{2} + Z O\\right) O + \\left(I O + Z I\\right) I\\right) I_{2}\\\\\\left(\\left(I^{2} + O^{2}\\right) I + \\left(I O + O I\\right) O\\right) I_{2} + \\left(\\left(I^{2} + O^{2}\\right) O + \\left(I O + O I\\right) I\\right) O_{2}\\end{matrix}\\right]$"
      ],
      "text/plain": [
       "Matrix([\n",
       "[  ((I**2 + Z*O)*I + (I*O + Z*I)*O)*O_2 + ((I**2 + Z*O)*O + (I*O + Z*I)*I)*I_2],\n",
       "[((I**2 + O**2)*I + (I*O + O*I)*O)*I_2 + ((I**2 + O**2)*O + (I*O + O*I)*I)*O_2]])"
      ]
     },
     "execution_count": 20,
     "metadata": {},
     "output_type": "execute_result"
    }
   ],
   "source": [
    "m0 = Matrix([(i, z),(o, i)])\n",
    "m1 = Matrix([(i, o),(o, i)])\n",
    "m2 = Matrix([(i, o),(o, i)])\n",
    "m3 = Matrix([(o2),(i2)])\n",
    "vl = Matrix([[i2, o2]])\n",
    "\n",
    "(m0 @ m1 @ m2 @ m3)"
   ]
  },
  {
   "cell_type": "code",
   "execution_count": 15,
   "metadata": {},
   "outputs": [
    {
     "data": {
      "text/plain": [
       "(2, 1)"
      ]
     },
     "execution_count": 15,
     "metadata": {},
     "output_type": "execute_result"
    }
   ],
   "source": [
    "m3.shape"
   ]
  }
 ],
 "metadata": {
  "kernelspec": {
   "display_name": "mps",
   "language": "python",
   "name": "python3"
  },
  "language_info": {
   "codemirror_mode": {
    "name": "ipython",
    "version": 3
   },
   "file_extension": ".py",
   "mimetype": "text/x-python",
   "name": "python",
   "nbconvert_exporter": "python",
   "pygments_lexer": "ipython3",
   "version": "3.11.4"
  }
 },
 "nbformat": 4,
 "nbformat_minor": 2
}
