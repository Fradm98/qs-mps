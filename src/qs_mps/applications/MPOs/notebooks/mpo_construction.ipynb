{
 "cells": [
  {
   "cell_type": "code",
   "execution_count": 14,
   "metadata": {},
   "outputs": [],
   "source": [
    "from sympy import *\n",
    "\n",
    "i, i2, o, o2, z = symbols(\"I I_2 O O_2 Z\", commutative=False)\n",
    "delta, g = symbols(\"\\delta g\")"
   ]
  },
  {
   "cell_type": "code",
   "execution_count": 20,
   "metadata": {},
   "outputs": [
    {
     "data": {
      "text/latex": [
       "$\\displaystyle \\left[\\begin{matrix}\\left(\\left(I^{2} + Z O\\right) I + \\left(I O + Z I\\right) O\\right) O_{2} + \\left(\\left(I^{2} + Z O\\right) O + \\left(I O + Z I\\right) I\\right) I_{2}\\\\\\left(\\left(I^{2} + O^{2}\\right) I + \\left(I O + O I\\right) O\\right) I_{2} + \\left(\\left(I^{2} + O^{2}\\right) O + \\left(I O + O I\\right) I\\right) O_{2}\\end{matrix}\\right]$"
      ],
      "text/plain": [
       "Matrix([\n",
       "[  ((I**2 + Z*O)*I + (I*O + Z*I)*O)*O_2 + ((I**2 + Z*O)*O + (I*O + Z*I)*I)*I_2],\n",
       "[((I**2 + O**2)*I + (I*O + O*I)*O)*I_2 + ((I**2 + O**2)*O + (I*O + O*I)*I)*O_2]])"
      ]
     },
     "execution_count": 20,
     "metadata": {},
     "output_type": "execute_result"
    }
   ],
   "source": [
    "m0 = Matrix([(i, z),(o, i)])\n",
    "m1 = Matrix([(i, o),(o, i)])\n",
    "m2 = Matrix([(i, o),(o, i)])\n",
    "m3 = Matrix([(o2),(i2)])\n",
    "vl = Matrix([[i2, o2]])\n",
    "\n",
    "(m0 @ m1 @ m2 @ m3)"
   ]
  },
  {
   "cell_type": "code",
   "execution_count": 15,
   "metadata": {},
   "outputs": [
    {
     "data": {
      "text/plain": [
       "(2, 1)"
      ]
     },
     "execution_count": 15,
     "metadata": {},
     "output_type": "execute_result"
    }
   ],
   "source": [
    "m3.shape"
   ]
  },
  {
   "cell_type": "code",
   "execution_count": 3,
   "metadata": {},
   "outputs": [],
   "source": [
    "i, i2, o, o2, z = symbols(\"I I_2 O O_2 Z\", commutative=False)\n",
    "a, b = symbols(\"\\\\alpha \\\\beta\")"
   ]
  },
  {
   "cell_type": "code",
   "execution_count": 12,
   "metadata": {},
   "outputs": [],
   "source": [
    "mb = Matrix([(cos(a)*i, -1j*sqrt(cos(a)*sin(a))*z),(sqrt(cos(a)*sin(a))*z, -1j*sin(a)*i)])\n",
    "ml = Matrix([(sqrt(cos(a))*i, -1j*sqrt(sin(a))*z)])\n",
    "mr = Matrix([(sqrt(cos(a))*i), (sqrt(sin(a))*z)])"
   ]
  },
  {
   "cell_type": "code",
   "execution_count": 13,
   "metadata": {},
   "outputs": [
    {
     "data": {
      "text/latex": [
       "$\\displaystyle \\left[\\begin{matrix}\\sqrt{\\sin{\\left(\\alpha \\right)}} \\left(- 1.0 i \\sqrt{\\sin{\\left(\\alpha \\right)} \\cos{\\left(\\alpha \\right)}} \\sqrt{\\cos{\\left(\\alpha \\right)}} I Z - 1.0 \\sin^{\\frac{3}{2}}{\\left(\\alpha \\right)} Z I\\right) Z + \\sqrt{\\cos{\\left(\\alpha \\right)}} \\left(- 1.0 i \\sqrt{\\sin{\\left(\\alpha \\right)} \\cos{\\left(\\alpha \\right)}} \\sqrt{\\sin{\\left(\\alpha \\right)}} Z^{2} + \\cos^{\\frac{3}{2}}{\\left(\\alpha \\right)} I^{2}\\right) I\\end{matrix}\\right]$"
      ],
      "text/plain": [
       "Matrix([[sqrt(sin(\\alpha))*(-1.0*I*sqrt(sin(\\alpha)*cos(\\alpha))*sqrt(cos(\\alpha))*I*Z - 1.0*sin(\\alpha)**(3/2)*Z*I)*Z + sqrt(cos(\\alpha))*(-1.0*I*sqrt(sin(\\alpha)*cos(\\alpha))*sqrt(sin(\\alpha))*Z**2 + cos(\\alpha)**(3/2)*I**2)*I]])"
      ]
     },
     "execution_count": 13,
     "metadata": {},
     "output_type": "execute_result"
    }
   ],
   "source": [
    "(ml @ mb @ mr)"
   ]
  },
  {
   "cell_type": "code",
   "execution_count": 40,
   "metadata": {},
   "outputs": [],
   "source": [
    "ml = Matrix([[z, z, o],[o, o, o],[o, o, z]])\n",
    "mr = Matrix([[z, o, o],[o, o, z],[o, o, z]])\n",
    "mb = Matrix([[z, z, o],[o, o, z],[o, o, z]])\n",
    "mz = Matrix([[i, z],[o, i]])\n",
    "mzfin = Matrix([[i, o],[o, z]])\n"
   ]
  },
  {
   "cell_type": "code",
   "execution_count": 44,
   "metadata": {},
   "outputs": [
    {
     "data": {
      "text/latex": [
       "$\\displaystyle \\left(\\left(I^{2} + Z O\\right) I + \\left(I O + Z^{2}\\right) O\\right) O + \\left(\\left(I^{2} + Z O\\right) O + \\left(I O + Z^{2}\\right) Z\\right) Z$"
      ],
      "text/plain": [
       "((I**2 + Z*O)*I + (I*O + Z**2)*O)*O + ((I**2 + Z*O)*O + (I*O + Z**2)*Z)*Z"
      ]
     },
     "execution_count": 44,
     "metadata": {},
     "output_type": "execute_result"
    }
   ],
   "source": [
    "(ml @ mb @ mr)[0,-1]\n",
    "(mz @ mzfin)[0,-1]\n",
    "(mz @ mzfin @ mzfin)[0,-1]\n",
    "(mz @ mzfin @ mzfin @ mzfin)[0,-1]\n"
   ]
  }
 ],
 "metadata": {
  "kernelspec": {
   "display_name": "mps",
   "language": "python",
   "name": "python3"
  },
  "language_info": {
   "codemirror_mode": {
    "name": "ipython",
    "version": 3
   },
   "file_extension": ".py",
   "mimetype": "text/x-python",
   "name": "python",
   "nbconvert_exporter": "python",
   "pygments_lexer": "ipython3",
   "version": "3.11.4"
  }
 },
 "nbformat": 4,
 "nbformat_minor": 2
}
