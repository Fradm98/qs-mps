{
 "cells": [
  {
   "cell_type": "code",
   "execution_count": 1,
   "metadata": {},
   "outputs": [],
   "source": [
    "import numpy as np\n",
    "import matplotlib.pyplot as plt\n",
    "from matplotlib import colors\n",
    "from qs_mps.utils import get_precision, swap_columns"
   ]
  },
  {
   "cell_type": "markdown",
   "metadata": {},
   "source": [
    "## Plot Energies for 1D phase spaces"
   ]
  },
  {
   "cell_type": "markdown",
   "metadata": {},
   "source": [
    "There are two methods:\n",
    "1. choose a point in the phase space, e.g. the critical point $h_{crit}$: plot energy density for different $\\chi$\n",
    "2. for each point in the phase space $h$: plot the cumulative sum of the energy density for different $\\chi$ "
   ]
  },
  {
   "cell_type": "markdown",
   "metadata": {},
   "source": [
    "### 1. Specific point plot"
   ]
  },
  {
   "cell_type": "code",
   "execution_count": 5,
   "metadata": {},
   "outputs": [],
   "source": [
    "model = \"Cluster\"\n",
    "path = \"mac\"\n",
    "L = 30\n",
    "npoints = 32\n",
    "chis = [4, 16, 256]\n",
    "hx_i = 0\n",
    "hx_f = 1\n",
    "interval = np.linspace(hx_i, hx_f, npoints)\n",
    "num = (hx_f - hx_i) / npoints\n",
    "precision = get_precision(num)\n",
    "\n",
    "if model == \"Ising\":\n",
    "    model_path = \"0_ISING\"\n",
    "\n",
    "elif model == \"Z2\":\n",
    "    model_path = \"1_Z2\"\n",
    "\n",
    "elif model == \"ANNNI\":\n",
    "    model_path = \"2_ANNNI\"\n",
    "\n",
    "elif model == \"Cluster\":\n",
    "    model_path = \"3_CLUSTER\"\n",
    "else:\n",
    "    raise SyntaxError(\"Model not valid. Choose among 'Ising', 'Z2', 'ANNNI', 'Cluster'\")\n",
    "# take the path and precision to save files\n",
    "# if we want to save the tensors we save them locally because they occupy a lot of memory\n",
    "if path == \"pc\":\n",
    "    parent_path = f\"G:/My Drive/projects/{model_path}\"\n",
    "    path_tensor = f\"D:/code/projects/{model_path}\"\n",
    "    path_rdms = \"C:/Users/HP/Desktop/fidelity-phase-tran\"\n",
    "elif path == \"mac\":\n",
    "    parent_path = f\"/Users/fradm98/Google Drive/My Drive/projects/{model_path}\"\n",
    "    path_tensor = f\"/Users/fradm98/Desktop/projects/{model_path}\"\n",
    "    path_rdms = \"/Users/fradm98/Desktop/fidelity-phase-tran\"\n",
    "elif path == \"marcos\":\n",
    "    parent_path = f\"/Users/fradm/Google Drive/My Drive/projects/{model_path}\"\n",
    "    path_tensor = f\"/Users/fradm/Desktop/projects/{model_path}\""
   ]
  },
  {
   "cell_type": "markdown",
   "metadata": {},
   "source": [
    "## Plot Energies for 2D phase spaces"
   ]
  },
  {
   "cell_type": "markdown",
   "metadata": {},
   "source": [
    "There are two methods:\n",
    "1. choose a point in the phase space, e.g. the critical point $h_{crit}$: plot energy density for different $\\chi$\n",
    "2. for each point in the phase space $h$: plot the cumulative sum of the energy density for different $\\chi$ "
   ]
  },
  {
   "cell_type": "markdown",
   "metadata": {},
   "source": [
    "### 1. Specific point plot"
   ]
  },
  {
   "cell_type": "code",
   "execution_count": 2,
   "metadata": {},
   "outputs": [],
   "source": [
    "model = \"Ising\"\n",
    "path = \"mac\"\n",
    "L = 20\n",
    "npoints = 16\n",
    "chis = [50]\n",
    "hx_i = 0.0\n",
    "hx_f = 1.5\n",
    "hy_i = 0.0\n",
    "hy_f = 1.5\n",
    "hxs = np.linspace(hx_i, hx_f, npoints)\n",
    "hys = np.linspace(hy_i, hy_f, npoints)\n",
    "num = (hx_f - hx_i) / npoints\n",
    "precision = get_precision(num)\n",
    "\n",
    "if model == \"Ising\":\n",
    "    model_path = \"0_ISING\"\n",
    "    param_labels = [\"h\",\"J\"]\n",
    "\n",
    "elif model == \"Z2\":\n",
    "    model_path = \"1_Z2\"\n",
    "    param_labels = [\"g\",\"J\"]\n",
    "\n",
    "elif model == \"ANNNI\":\n",
    "    model_path = \"2_ANNNI\"\n",
    "    param_labels = [\"k\",\"h\"]\n",
    "\n",
    "elif model == \"Cluster\":\n",
    "    model_path = \"3_CLUSTER\"\n",
    "    param_labels = [\"h\",\"J\"]\n",
    "else:\n",
    "    raise SyntaxError(\"Model not valid. Choose among 'Ising', 'Z2', 'ANNNI', 'Cluster'\")\n",
    "# take the path and precision to save files\n",
    "# if we want to save the tensors we save them locally because they occupy a lot of memory\n",
    "if path == \"pc\":\n",
    "    parent_path = f\"G:/My Drive/projects/{model_path}\"\n",
    "    path_tensor = f\"D:/code/projects/{model_path}\"\n",
    "    path_rdms = \"C:/Users/HP/Desktop/fidelity-phase-tran\"\n",
    "elif path == \"mac\":\n",
    "    parent_path = f\"/Users/fradm98/Google Drive/My Drive/projects/{model_path}\"\n",
    "    path_tensor = f\"/Users/fradm98/Desktop/projects/{model_path}\"\n",
    "    path_rdms = \"/Users/fradm98/Desktop/fidelity-phase-tran\"\n",
    "elif path == \"marcos\":\n",
    "    parent_path = f\"/Users/fradm/Google Drive/My Drive/projects/{model_path}\"\n",
    "    path_tensor = f\"/Users/fradm/Desktop/projects/{model_path}\""
   ]
  },
  {
   "cell_type": "code",
   "execution_count": 3,
   "metadata": {},
   "outputs": [
    {
     "name": "stdout",
     "output_type": "stream",
     "text": [
      "[[0.0, 0.0], [0.1, 0.0], [0.2, 0.0], [0.3, 0.0], [0.4, 0.0], [0.5, 0.0], [0.6, 0.0], [0.7, 0.0], [0.8, 0.0], [0.9, 0.0], [1.0, 0.0], [1.1, 0.0], [1.2, 0.0], [1.3, 0.0], [1.4, 0.0], [1.5, 0.0], [0.0, 0.1], [0.1, 0.1], [0.2, 0.1], [0.3, 0.1], [0.4, 0.1], [0.5, 0.1], [0.6, 0.1], [0.7, 0.1], [0.8, 0.1], [0.9, 0.1], [1.0, 0.1], [1.1, 0.1], [1.2, 0.1], [1.3, 0.1], [1.4, 0.1], [1.5, 0.1], [0.0, 0.2], [0.1, 0.2], [0.2, 0.2], [0.3, 0.2], [0.4, 0.2], [0.5, 0.2], [0.6, 0.2], [0.7, 0.2], [0.8, 0.2], [0.9, 0.2], [1.0, 0.2], [1.1, 0.2], [1.2, 0.2], [1.3, 0.2], [1.4, 0.2], [1.5, 0.2], [0.0, 0.3], [0.1, 0.3], [0.2, 0.3], [0.3, 0.3], [0.4, 0.3], [0.5, 0.3], [0.6, 0.3], [0.7, 0.3], [0.8, 0.3], [0.9, 0.3], [1.0, 0.3], [1.1, 0.3], [1.2, 0.3], [1.3, 0.3], [1.4, 0.3], [1.5, 0.3], [0.0, 0.4], [0.1, 0.4], [0.2, 0.4], [0.3, 0.4], [0.4, 0.4], [0.5, 0.4], [0.6, 0.4], [0.7, 0.4], [0.8, 0.4], [0.9, 0.4], [1.0, 0.4], [1.1, 0.4], [1.2, 0.4], [1.3, 0.4], [1.4, 0.4], [1.5, 0.4], [0.0, 0.5], [0.1, 0.5], [0.2, 0.5], [0.3, 0.5], [0.4, 0.5], [0.5, 0.5], [0.6, 0.5], [0.7, 0.5], [0.8, 0.5], [0.9, 0.5], [1.0, 0.5], [1.1, 0.5], [1.2, 0.5], [1.3, 0.5], [1.4, 0.5], [1.5, 0.5], [0.0, 0.6], [0.1, 0.6], [0.2, 0.6], [0.3, 0.6], [0.4, 0.6], [0.5, 0.6], [0.6, 0.6], [0.7, 0.6], [0.8, 0.6], [0.9, 0.6], [1.0, 0.6], [1.1, 0.6], [1.2, 0.6], [1.3, 0.6], [1.4, 0.6], [1.5, 0.6], [0.0, 0.7], [0.1, 0.7], [0.2, 0.7], [0.3, 0.7], [0.4, 0.7], [0.5, 0.7], [0.6, 0.7], [0.7, 0.7], [0.8, 0.7], [0.9, 0.7], [1.0, 0.7], [1.1, 0.7], [1.2, 0.7], [1.3, 0.7], [1.4, 0.7], [1.5, 0.7], [0.0, 0.8], [0.1, 0.8], [0.2, 0.8], [0.3, 0.8], [0.4, 0.8], [0.5, 0.8], [0.6, 0.8], [0.7, 0.8], [0.8, 0.8], [0.9, 0.8], [1.0, 0.8], [1.1, 0.8], [1.2, 0.8], [1.3, 0.8], [1.4, 0.8], [1.5, 0.8], [0.0, 0.9], [0.1, 0.9], [0.2, 0.9], [0.3, 0.9], [0.4, 0.9], [0.5, 0.9], [0.6, 0.9], [0.7, 0.9], [0.8, 0.9], [0.9, 0.9], [1.0, 0.9], [1.1, 0.9], [1.2, 0.9], [1.3, 0.9], [1.4, 0.9], [1.5, 0.9], [0.0, 1.0], [0.1, 1.0], [0.2, 1.0], [0.3, 1.0], [0.4, 1.0], [0.5, 1.0], [0.6, 1.0], [0.7, 1.0], [0.8, 1.0], [0.9, 1.0], [1.0, 1.0], [1.1, 1.0], [1.2, 1.0], [1.3, 1.0], [1.4, 1.0], [1.5, 1.0], [0.0, 1.1], [0.1, 1.1], [0.2, 1.1], [0.3, 1.1], [0.4, 1.1], [0.5, 1.1], [0.6, 1.1], [0.7, 1.1], [0.8, 1.1], [0.9, 1.1], [1.0, 1.1], [1.1, 1.1], [1.2, 1.1], [1.3, 1.1], [1.4, 1.1], [1.5, 1.1], [0.0, 1.2], [0.1, 1.2], [0.2, 1.2], [0.3, 1.2], [0.4, 1.2], [0.5, 1.2], [0.6, 1.2], [0.7, 1.2], [0.8, 1.2], [0.9, 1.2], [1.0, 1.2], [1.1, 1.2], [1.2, 1.2], [1.3, 1.2], [1.4, 1.2], [1.5, 1.2], [0.0, 1.3], [0.1, 1.3], [0.2, 1.3], [0.3, 1.3], [0.4, 1.3], [0.5, 1.3], [0.6, 1.3], [0.7, 1.3], [0.8, 1.3], [0.9, 1.3], [1.0, 1.3], [1.1, 1.3], [1.2, 1.3], [1.3, 1.3], [1.4, 1.3], [1.5, 1.3], [0.0, 1.4], [0.1, 1.4], [0.2, 1.4], [0.3, 1.4], [0.4, 1.4], [0.5, 1.4], [0.6, 1.4], [0.7, 1.4], [0.8, 1.4], [0.9, 1.4], [1.0, 1.4], [1.1, 1.4], [1.2, 1.4], [1.3, 1.4], [1.4, 1.4], [1.5, 1.4], [0.0, 1.5], [0.1, 1.5], [0.2, 1.5], [0.3, 1.5], [0.4, 1.5], [0.5, 1.5], [0.6, 1.5], [0.7, 1.5], [0.8, 1.5], [0.9, 1.5], [1.0, 1.5], [1.1, 1.5], [1.2, 1.5], [1.3, 1.5], [1.4, 1.5], [1.5, 1.5]]\n"
     ]
    }
   ],
   "source": [
    "target_param = [1.0,1.0]\n",
    "params = [[round(hx,precision),round(hy,precision)] for hy in hys for hx in hxs]\n",
    "print(params)"
   ]
  },
  {
   "cell_type": "code",
   "execution_count": 5,
   "metadata": {},
   "outputs": [
    {
     "ename": "ValueError",
     "evalue": "Cannot load file containing pickled data when allow_pickle=False",
     "output_type": "error",
     "traceback": [
      "\u001b[0;31m---------------------------------------------------------------------------\u001b[0m",
      "\u001b[0;31mValueError\u001b[0m                                Traceback (most recent call last)",
      "Cell \u001b[0;32mIn[5], line 3\u001b[0m\n\u001b[1;32m      1\u001b[0m en_dens \u001b[38;5;241m=\u001b[39m []\n\u001b[1;32m      2\u001b[0m \u001b[38;5;28;01mfor\u001b[39;00m chi \u001b[38;5;129;01min\u001b[39;00m chis:\n\u001b[0;32m----> 3\u001b[0m     energies \u001b[38;5;241m=\u001b[39m \u001b[43mnp\u001b[49m\u001b[38;5;241;43m.\u001b[39;49m\u001b[43mload\u001b[49m\u001b[43m(\u001b[49m\u001b[38;5;124;43mf\u001b[39;49m\u001b[38;5;124;43m\"\u001b[39;49m\u001b[38;5;132;43;01m{\u001b[39;49;00m\u001b[43mparent_path\u001b[49m\u001b[38;5;132;43;01m}\u001b[39;49;00m\u001b[38;5;124;43m/results/energy_data/energies_\u001b[39;49m\u001b[38;5;132;43;01m{\u001b[39;49;00m\u001b[43mmodel\u001b[49m\u001b[38;5;132;43;01m}\u001b[39;49;00m\u001b[38;5;124;43m_L_\u001b[39;49m\u001b[38;5;132;43;01m{\u001b[39;49;00m\u001b[43mL\u001b[49m\u001b[38;5;132;43;01m}\u001b[39;49;00m\u001b[38;5;124;43m_\u001b[39;49m\u001b[38;5;132;43;01m{\u001b[39;49;00m\u001b[43mparam_labels\u001b[49m\u001b[43m[\u001b[49m\u001b[38;5;241;43m0\u001b[39;49m\u001b[43m]\u001b[49m\u001b[38;5;132;43;01m}\u001b[39;49;00m\u001b[38;5;124;43m_\u001b[39;49m\u001b[38;5;132;43;01m{\u001b[39;49;00m\u001b[43mhx_i\u001b[49m\u001b[38;5;132;43;01m}\u001b[39;49;00m\u001b[38;5;124;43m-\u001b[39;49m\u001b[38;5;132;43;01m{\u001b[39;49;00m\u001b[43mhx_f\u001b[49m\u001b[38;5;132;43;01m}\u001b[39;49;00m\u001b[38;5;124;43m_delta_\u001b[39;49m\u001b[38;5;132;43;01m{\u001b[39;49;00m\u001b[43mnpoints\u001b[49m\u001b[38;5;132;43;01m}\u001b[39;49;00m\u001b[38;5;124;43m_chi_\u001b[39;49m\u001b[38;5;132;43;01m{\u001b[39;49;00m\u001b[43mchi\u001b[49m\u001b[38;5;132;43;01m}\u001b[39;49;00m\u001b[38;5;124;43m\"\u001b[39;49m\u001b[43m)\u001b[49m\n\u001b[1;32m      4\u001b[0m     energies \u001b[38;5;241m=\u001b[39m energies\u001b[38;5;241m.\u001b[39mreshape((npoints\u001b[38;5;241m*\u001b[39mnpoints,energies\u001b[38;5;241m.\u001b[39mshape[\u001b[38;5;241m-\u001b[39m\u001b[38;5;241m1\u001b[39m]))\n\u001b[1;32m      6\u001b[0m     \u001b[38;5;66;03m# Flag to track if the target tuple is found\u001b[39;00m\n",
      "File \u001b[0;32m~/opt/anaconda3/envs/mps/lib/python3.11/site-packages/numpy/lib/npyio.py:462\u001b[0m, in \u001b[0;36mload\u001b[0;34m(file, mmap_mode, allow_pickle, fix_imports, encoding, max_header_size)\u001b[0m\n\u001b[1;32m    459\u001b[0m \u001b[38;5;28;01melse\u001b[39;00m:\n\u001b[1;32m    460\u001b[0m     \u001b[38;5;66;03m# Try a pickle\u001b[39;00m\n\u001b[1;32m    461\u001b[0m     \u001b[38;5;28;01mif\u001b[39;00m \u001b[38;5;129;01mnot\u001b[39;00m allow_pickle:\n\u001b[0;32m--> 462\u001b[0m         \u001b[38;5;28;01mraise\u001b[39;00m \u001b[38;5;167;01mValueError\u001b[39;00m(\u001b[38;5;124m\"\u001b[39m\u001b[38;5;124mCannot load file containing pickled data \u001b[39m\u001b[38;5;124m\"\u001b[39m\n\u001b[1;32m    463\u001b[0m                          \u001b[38;5;124m\"\u001b[39m\u001b[38;5;124mwhen allow_pickle=False\u001b[39m\u001b[38;5;124m\"\u001b[39m)\n\u001b[1;32m    464\u001b[0m     \u001b[38;5;28;01mtry\u001b[39;00m:\n\u001b[1;32m    465\u001b[0m         \u001b[38;5;28;01mreturn\u001b[39;00m pickle\u001b[38;5;241m.\u001b[39mload(fid, \u001b[38;5;241m*\u001b[39m\u001b[38;5;241m*\u001b[39mpickle_kwargs)\n",
      "\u001b[0;31mValueError\u001b[0m: Cannot load file containing pickled data when allow_pickle=False"
     ]
    }
   ],
   "source": [
    "en_dens = []\n",
    "for chi in chis:\n",
    "    energies = np.load(f\"{parent_path}/results/energy_data/energies_{model}_L_{L}_{param_labels[0]}_{hx_i}-{hx_f}_delta_{npoints}_chi_{chi}.npy\")\n",
    "    energies = energies.reshape((npoints*npoints,energies.shape[-1]))\n",
    "\n",
    "    # Flag to track if the target tuple is found\n",
    "    found = False\n",
    "\n",
    "    # Iterate through the list of parameters\n",
    "    for index, param in enumerate(params):\n",
    "        # Check if the current parameter matches the target tuple\n",
    "        if param == target_param:\n",
    "            found = True\n",
    "            break\n",
    "\n",
    "    # If the target tuple is not found\n",
    "    if not found:\n",
    "        print(f\"The tuple {target_param} is not in the parameter list.\")\n",
    "\n",
    "    en_dens_chi = np.abs(energies[index,-1] - energies[index])/L\n",
    "    en_dens.append(en_dens_chi)"
   ]
  },
  {
   "cell_type": "code",
   "execution_count": 10,
   "metadata": {},
   "outputs": [
    {
     "name": "stderr",
     "output_type": "stream",
     "text": [
      "No artists with labels found to put in legend.  Note that artists whose label start with an underscore are ignored when legend() is called with no argument.\n"
     ]
    },
    {
     "data": {
      "image/png": "[encoded data removed]",
      "text/plain": [
       "<Figure size 640x480 with 1 Axes>"
      ]
     },
     "metadata": {},
     "output_type": "display_data"
    }
   ],
   "source": [
    "for i, ed in enumerate(en_dens):\n",
    "    plt.plot(ed, label=f\"$\\chi$: {chis[i]}\")\n",
    "plt.legend()\n",
    "plt.title(f\"Energy density for ${param_labels[0]}:{target_param[0]}$, ${param_labels[1]}:{target_param[1]}$\")\n",
    "plt.ylabel(\"$(E_0 - E)/N$\")\n",
    "plt.xlabel(\"Sweeps through sites\")\n",
    "plt.yscale('log')\n",
    "plt.show()"
   ]
  },
  {
   "cell_type": "markdown",
   "metadata": {},
   "source": [
    "### 2. All points plot"
   ]
  },
  {
   "cell_type": "code",
   "execution_count": 57,
   "metadata": {},
   "outputs": [],
   "source": [
    "model = \"Cluster\"\n",
    "path = \"mac\"\n",
    "L = 12\n",
    "npoints = 16\n",
    "chis = [2]\n",
    "hx_i = 0.01\n",
    "hx_f = 1.5\n",
    "hy_i = 0.01\n",
    "hy_f = 1.5\n",
    "hxs = np.linspace(hx_i, hx_f, npoints)\n",
    "hys = np.linspace(hy_i, hy_f, npoints)\n",
    "num = (hx_f - hx_i) / npoints\n",
    "precision = get_precision(num)\n",
    "\n",
    "if model == \"Ising\":\n",
    "    model_path = \"0_ISING\"\n",
    "    param_labels = [\"h\",\"J\"]\n",
    "\n",
    "elif model == \"Z2\":\n",
    "    model_path = \"1_Z2\"\n",
    "    param_labels = [\"g\",\"J\"]\n",
    "\n",
    "elif model == \"ANNNI\":\n",
    "    model_path = \"2_ANNNI\"\n",
    "    param_labels = [\"k\",\"h\"]\n",
    "\n",
    "elif model == \"Cluster\":\n",
    "    model_path = \"3_CLUSTER\"\n",
    "    param_labels = [\"h\",\"J\"]\n",
    "else:\n",
    "    raise SyntaxError(\"Model not valid. Choose among 'Ising', 'Z2', 'ANNNI', 'Cluster'\")\n",
    "# take the path and precision to save files\n",
    "# if we want to save the tensors we save them locally because they occupy a lot of memory\n",
    "if path == \"pc\":\n",
    "    parent_path = f\"G:/My Drive/projects/{model_path}\"\n",
    "    path_tensor = f\"D:/code/projects/{model_path}\"\n",
    "    path_rdms = \"C:/Users/HP/Desktop/fidelity-phase-tran\"\n",
    "elif path == \"mac\":\n",
    "    parent_path = f\"/Users/fradm98/Google Drive/My Drive/projects/{model_path}\"\n",
    "    path_tensor = f\"/Users/fradm98/Desktop/projects/{model_path}\"\n",
    "    path_rdms = \"/Users/fradm98/Desktop/fidelity-phase-tran\"\n",
    "elif path == \"marcos\":\n",
    "    parent_path = f\"/Users/fradm/Google Drive/My Drive/projects/{model_path}\"\n",
    "    path_tensor = f\"/Users/fradm/Desktop/projects/{model_path}\""
   ]
  },
  {
   "cell_type": "code",
   "execution_count": 60,
   "metadata": {},
   "outputs": [],
   "source": [
    "en_dens = []\n",
    "for chi in chis:\n",
    "    energies = np.load(f\"{parent_path}/results/energy_data/energies_{model}_L_{L}_{param_labels[0]}_{hx_i}-{hx_f}_{param_labels[1]}_{hy_i}-{hy_f}_delta_{npoints}_chi_{chi}.npy\")\n",
    "    \n",
    "    en_dens_chi = [np.abs(energies[i,j,-1] - energies[i,j]) for j,hy in enumerate(hys) for i,hx in enumerate(hxs)]\n",
    "    en_dens_chi = np.asarray(en_dens_chi)\n",
    "    # en_dens_chi = np.mean(en_dens_chi, axis=-1)\n",
    "    # en_dens_chi_std = np.std(en_dens_chi, axis=-1)\n",
    "    en_dens_chi = np.sum(en_dens_chi, axis=-1)\n",
    "    en_dens_chi = en_dens_chi.reshape((npoints,npoints))\n",
    "    en_dens.append(en_dens_chi)"
   ]
  },
  {
   "cell_type": "code",
   "execution_count": 61,
   "metadata": {},
   "outputs": [
    {
     "data": {
      "image/png": "[encoded data removed]",
      "text/plain": [
       "<Figure size 480x480 with 2 Axes>"
      ]
     },
     "metadata": {},
     "output_type": "display_data"
    }
   ],
   "source": [
    "for i, ed in enumerate(en_dens):\n",
    "    # end = []\n",
    "    # for e in ed:\n",
    "    #     e = e[::-1]\n",
    "    #     end.append(e)\n",
    "    # end = np.asarray(end[::-1]).T\n",
    "    plt.matshow(ed, origin='lower', norm=colors.LogNorm(vmin=np.min(ed)+1e-15, vmax=np.max(ed)))\n",
    "    # plt.matshow(end, origin='lower', norm=colors.LogNorm(\n",
    "    #                                           vmin=np.min(ed)+1e-15, vmax=np.max(ed)))\n",
    "    plt.title(f\"Cumulative Energy density for $\\chi$: {chis[i]}\")\n",
    "    plt.ylabel(f\"${param_labels[1]}$\")\n",
    "    plt.xlabel(f\"${param_labels[0]}$\")\n",
    "    plt.colorbar()\n",
    "plt.show()"
   ]
  }
 ],
 "metadata": {
  "kernelspec": {
   "display_name": "mps",
   "language": "python",
   "name": "python3"
  },
  "language_info": {
   "codemirror_mode": {
    "name": "ipython",
    "version": 3
   },
   "file_extension": ".py",
   "mimetype": "text/x-python",
   "name": "python",
   "nbconvert_exporter": "python",
   "pygments_lexer": "ipython3",
   "version": "3.11.4"
  }
 },
 "nbformat": 4,
 "nbformat_minor": 2
}
